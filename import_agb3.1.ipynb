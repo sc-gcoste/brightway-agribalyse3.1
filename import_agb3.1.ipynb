{
 "cells": [
  {
   "cell_type": "markdown",
   "source": [
    "# Notebook for importing Agribalyse 3.1 from a SimaPro .csv export"
   ],
   "metadata": {
    "collapsed": false
   }
  },
  {
   "cell_type": "code",
   "execution_count": 1,
   "metadata": {
    "collapsed": true
   },
   "outputs": [],
   "source": [
    "import brightway2 as bw"
   ]
  },
  {
   "cell_type": "code",
   "execution_count": 2,
   "outputs": [],
   "source": [
    "if 'Importing AGB3.1' in bw.projects:\n",
    "    bw.projects.delete_project('Importing AGB3.1')"
   ],
   "metadata": {
    "collapsed": false
   }
  },
  {
   "cell_type": "code",
   "execution_count": 3,
   "outputs": [
    {
     "name": "stdout",
     "output_type": "stream",
     "text": [
      "Biosphere database already present!!! No setup is needed\n"
     ]
    }
   ],
   "source": [
    "bw.projects.set_current('Importing AGB3.1')\n",
    "bw.bw2setup()"
   ],
   "metadata": {
    "collapsed": false
   }
  },
  {
   "cell_type": "markdown",
   "source": [
    "Some custom migrations are necessary"
   ],
   "metadata": {
    "collapsed": false
   }
  },
  {
   "cell_type": "code",
   "execution_count": 4,
   "outputs": [],
   "source": [
    "agb_csv_filepath = r\"data/AGB3.1.CSV\"\n",
    "\n",
    "agb_technosphere_migration_data = {\n",
    "    'fields': ['name', 'unit'],\n",
    "    'data': [\n",
    "        (\n",
    "            (\n",
    "                'Wastewater, average {Europe without Switzerland}| market for wastewater, average | Cut-off, S - Copied from Ecoinvent',\n",
    "                'litre'),\n",
    "            {\n",
    "                'unit': 'cubic meter',\n",
    "                'multiplier': 10e-3\n",
    "            }\n",
    "        ),\n",
    "        (\n",
    "            (\n",
    "                'Wastewater, from residence {RoW}| market for wastewater, from residence | Cut-off, S - Copied from Ecoinvent',\n",
    "                'litre'),\n",
    "            {\n",
    "                'unit': 'cubic meter',\n",
    "                'multiplier': 10e-3\n",
    "            }\n",
    "        ),\n",
    "        (\n",
    "            (\n",
    "                'Heat, central or small-scale, natural gas {Europe without Switzerland}| market for heat, central or small-scale, natural gas | Cut-off, S - Copied from Ecoinvent',\n",
    "                'kilowatt hour'),\n",
    "            {\n",
    "                'unit': 'megajoule',\n",
    "                'multiplier': 3.6\n",
    "            }\n",
    "        ),\n",
    "        (\n",
    "            (\n",
    "                'Heat, district or industrial, natural gas {Europe without Switzerland}| heat production, natural gas, at industrial furnace >100kW | Cut-off, S - Copied from Ecoinvent',\n",
    "                'kilowatt hour'),\n",
    "            {\n",
    "                'unit': 'megajoule',\n",
    "                'multiplier': 3.6\n",
    "            }\n",
    "        ),\n",
    "        (\n",
    "            ('Heat, district or industrial, natural gas {RER}| market group for | Cut-off, S - Copied from Ecoinvent',\n",
    "             'kilowatt hour'),\n",
    "            {\n",
    "                'unit': 'megajoule',\n",
    "                'multiplier': 3.6\n",
    "            }\n",
    "        ),\n",
    "        (\n",
    "            (\n",
    "                'Heat, district or industrial, natural gas {RoW}| market for heat, district or industrial, natural gas | Cut-off, S - Copied from Ecoinvent',\n",
    "                'kilowatt hour'),\n",
    "            {\n",
    "                'unit': 'megajoule',\n",
    "                'multiplier': 3.6\n",
    "            }\n",
    "        ),\n",
    "        (\n",
    "            (\n",
    "                'Land use change, perennial crop {BR}| market group for land use change, perennial crop | Cut-off, S - Copied from Ecoinvent',\n",
    "                'square meter'),\n",
    "            {\n",
    "                'unit': 'hectare',\n",
    "                'multiplier': 10e-4\n",
    "            }\n",
    "        ),\n",
    "    ]\n",
    "}"
   ],
   "metadata": {
    "collapsed": false
   }
  },
  {
   "cell_type": "markdown",
   "source": [
    "## Importing and linking the data"
   ],
   "metadata": {
    "collapsed": false
   }
  },
  {
   "cell_type": "code",
   "execution_count": 5,
   "outputs": [
    {
     "name": "stdout",
     "output_type": "stream",
     "text": [
      "Extracted 17550 unallocated datasets in 118.42 seconds\n",
      "Applying strategy: normalize_units\n",
      "Applying strategy: update_ecoinvent_locations\n",
      "Applying strategy: assign_only_product_as_production\n",
      "Applying strategy: drop_unspecified_subcategories\n",
      "Applying strategy: sp_allocate_products\n",
      "Applying strategy: fix_zero_allocation_products\n",
      "Applying strategy: split_simapro_name_geo\n",
      "Applying strategy: strip_biosphere_exc_locations\n",
      "Applying strategy: migrate_datasets\n",
      "Applying strategy: migrate_exchanges\n",
      "Applying strategy: set_code_by_activity_hash\n",
      "Applying strategy: link_technosphere_based_on_name_unit_location\n",
      "Applying strategy: change_electricity_unit_mj_to_kwh\n",
      "Applying strategy: set_lognormal_loc_value_uncertainty_safe\n",
      "Applying strategy: normalize_biosphere_categories\n",
      "Applying strategy: normalize_simapro_biosphere_categories\n",
      "Applying strategy: normalize_biosphere_names\n",
      "Applying strategy: normalize_simapro_biosphere_names\n",
      "Applying strategy: migrate_exchanges\n",
      "Applying strategy: fix_localized_water_flows\n",
      "Applying strategy: link_iterable_by_fields\n",
      "Applying strategy: convert_activity_parameters_to_list\n",
      "Applied 22 strategies in 126.68 seconds\n",
      "Applying strategy: normalize_units\n",
      "Applying strategy: update_ecoinvent_locations\n",
      "Applying strategy: assign_only_product_as_production\n",
      "Applying strategy: drop_unspecified_subcategories\n",
      "Applying strategy: sp_allocate_products\n",
      "Applying strategy: fix_zero_allocation_products\n",
      "Applying strategy: split_simapro_name_geo\n",
      "Applying strategy: strip_biosphere_exc_locations\n",
      "Applying strategy: migrate_datasets\n",
      "Applying strategy: migrate_exchanges\n",
      "Applying strategy: set_code_by_activity_hash\n",
      "Applying strategy: link_technosphere_based_on_name_unit_location\n",
      "Applying strategy: change_electricity_unit_mj_to_kwh\n",
      "Applying strategy: set_lognormal_loc_value_uncertainty_safe\n",
      "Applying strategy: normalize_biosphere_categories\n",
      "Applying strategy: normalize_simapro_biosphere_categories\n",
      "Applying strategy: normalize_biosphere_names\n",
      "Applying strategy: normalize_simapro_biosphere_names\n",
      "Applying strategy: migrate_exchanges\n",
      "Applying strategy: fix_localized_water_flows\n",
      "Applying strategy: link_iterable_by_fields\n",
      "Applying strategy: convert_activity_parameters_to_list\n",
      "Applied 22 strategies in 99.51 seconds\n",
      "Applying strategy: migrate_datasets\n",
      "Applying strategy: migrate_exchanges\n",
      "18551 datasets\n",
      "5065261 exchanges\n",
      "294325 unlinked exchanges\n",
      "  Type biosphere: 1883 unique unlinked exchanges\n",
      "  Type technosphere: 57 unique unlinked exchanges\n"
     ]
    },
    {
     "data": {
      "text/plain": "(18551, 5065261, 294325)"
     },
     "execution_count": 5,
     "metadata": {},
     "output_type": "execute_result"
    }
   ],
   "source": [
    "agb_importer = bw.SimaProCSVImporter(agb_csv_filepath, \"agribalyse3.1\")\n",
    "\n",
    "agb_technosphere_migration = bw.Migration(\"agb-technosphere\")\n",
    "agb_technosphere_migration.write(\n",
    "    agb_technosphere_migration_data,\n",
    "    description=\"Specific technosphere fixes for Agribalyse 3\"\n",
    ")\n",
    "\n",
    "agb_importer.apply_strategies()\n",
    "agb_importer.apply_strategies()\n",
    "agb_importer.migrate(\"agb-technosphere\")\n",
    "agb_importer.statistics()"
   ],
   "metadata": {
    "collapsed": false
   }
  },
  {
   "cell_type": "code",
   "execution_count": 6,
   "outputs": [
    {
     "name": "stdout",
     "output_type": "stream",
     "text": [
      "Applying strategy: normalize_units\n",
      "Applying strategy: update_ecoinvent_locations\n",
      "Applying strategy: assign_only_product_as_production\n",
      "Applying strategy: drop_unspecified_subcategories\n",
      "Applying strategy: sp_allocate_products\n",
      "Applying strategy: fix_zero_allocation_products\n",
      "Applying strategy: split_simapro_name_geo\n",
      "Applying strategy: strip_biosphere_exc_locations\n",
      "Applying strategy: migrate_datasets\n",
      "Applying strategy: migrate_exchanges\n",
      "Applying strategy: set_code_by_activity_hash\n",
      "Applying strategy: link_technosphere_based_on_name_unit_location\n",
      "Applying strategy: change_electricity_unit_mj_to_kwh\n",
      "Applying strategy: set_lognormal_loc_value_uncertainty_safe\n",
      "Applying strategy: normalize_biosphere_categories\n",
      "Applying strategy: normalize_simapro_biosphere_categories\n",
      "Applying strategy: normalize_biosphere_names\n",
      "Applying strategy: normalize_simapro_biosphere_names\n",
      "Applying strategy: migrate_exchanges\n",
      "Applying strategy: fix_localized_water_flows\n",
      "Applying strategy: link_iterable_by_fields\n",
      "Applying strategy: convert_activity_parameters_to_list\n",
      "Applied 22 strategies in 97.42 seconds\n",
      "18551 datasets\n",
      "5065261 exchanges\n",
      "294088 unlinked exchanges\n",
      "  Type biosphere: 1883 unique unlinked exchanges\n",
      "  Type technosphere: 49 unique unlinked exchanges\n"
     ]
    },
    {
     "data": {
      "text/plain": "(18551, 5065261, 294088)"
     },
     "execution_count": 6,
     "metadata": {},
     "output_type": "execute_result"
    }
   ],
   "source": [
    "agb_importer.apply_strategies()\n",
    "agb_importer.statistics()"
   ],
   "metadata": {
    "collapsed": false
   }
  },
  {
   "cell_type": "markdown",
   "source": [
    "## Writing unlinked data"
   ],
   "metadata": {
    "collapsed": false
   }
  },
  {
   "cell_type": "code",
   "execution_count": 7,
   "outputs": [
    {
     "name": "stdout",
     "output_type": "stream",
     "text": [
      "Wrote matching file to:\n",
      "C:\\Users\\GustaveCoste\\AppData\\Local\\pylca\\Brightway3\\Importing-AGB31.1200211839fb49bd0efc0b8ce016e951\\output\\db-matching-agribalyse31-unlinked.xlsx\n"
     ]
    }
   ],
   "source": [
    "agb_importer.write_excel(only_unlinked=True)"
   ],
   "metadata": {
    "collapsed": false
   }
  },
  {
   "cell_type": "code",
   "execution_count": 9,
   "outputs": [
    {
     "name": "stdout",
     "output_type": "stream",
     "text": [
      "Vacuuming database \n"
     ]
    },
    {
     "name": "stderr",
     "output_type": "stream",
     "text": [
      "Writing activities to SQLite3 database:\n",
      "0% [##############################] 100% | ETA: 00:00:00\n",
      "Total time elapsed: 00:00:00\n"
     ]
    },
    {
     "name": "stdout",
     "output_type": "stream",
     "text": [
      "Title: Writing activities to SQLite3 database:\n",
      "  Started: 09/26/2022 13:26:49\n",
      "  Finished: 09/26/2022 13:26:50\n",
      "  Total time elapsed: 00:00:00\n",
      "  CPU %: 39.20\n",
      "  Memory %: 21.15\n",
      "Applying strategy: link_iterable_by_fields\n",
      "Applying strategy: link_iterable_by_fields\n",
      "18600 datasets\n",
      "5065261 exchanges\n",
      "0 unlinked exchanges\n",
      "  \n"
     ]
    },
    {
     "data": {
      "text/plain": "(18600, 5065261, 0)"
     },
     "execution_count": 9,
     "metadata": {},
     "output_type": "execute_result"
    }
   ],
   "source": [
    "bw.Database('agribalyse3.1 biosphere flows').register()\n",
    "agb_importer.add_unlinked_flows_to_biosphere_database('agribalyse3.1 biosphere flows')\n",
    "agb_importer.add_unlinked_activities()\n",
    "agb_importer.statistics()"
   ],
   "metadata": {
    "collapsed": false
   }
  },
  {
   "cell_type": "markdown",
   "source": [
    "## Processing metadata"
   ],
   "metadata": {
    "collapsed": false
   }
  },
  {
   "cell_type": "code",
   "execution_count": 10,
   "outputs": [],
   "source": [
    "packagings = [\n",
    "    'PS',\n",
    "    'LDPE',\n",
    "    'PP',\n",
    "    'Cardboard',\n",
    "    'No packaging',\n",
    "    'Already packed - PET',\n",
    "    'Glass',\n",
    "    'Steel',\n",
    "    'PVC',\n",
    "    'PET',\n",
    "    'Paper',\n",
    "    'HDPE',\n",
    "    'Already packed - PP/PE',\n",
    "    'Already packed - Aluminium',\n",
    "    'Already packed - Steel',\n",
    "    'Already packed - Glass',\n",
    "    'Corrugated board and aluminium packaging',\n",
    "    'Corrugated board and LDPE packaging',\n",
    "    'Aluminium',\n",
    "    'PP/PE',\n",
    "    'Corrugated board and PP packaging']\n",
    "stages = ['at consumer',\n",
    "          'at packaging',\n",
    "          'at supermarket',\n",
    "          'at distribution']\n",
    "transport_types = [\n",
    "    'Chilled',\n",
    "    'Ambient (average)',\n",
    "    'Ambient (long)',\n",
    "    'Ambient (short)',\n",
    "    'Frozen'\n",
    "]\n",
    "preparation_modes = [\n",
    "    'Oven',\n",
    "    'No preparation',\n",
    "    'Microwave',\n",
    "    'Boiling',\n",
    "    'Chilled at consumer',\n",
    "    'Pan frying',\n",
    "    'Water cooker',\n",
    "    'Deep frying'\n",
    "]"
   ],
   "metadata": {
    "collapsed": false
   }
  },
  {
   "cell_type": "code",
   "execution_count": 11,
   "outputs": [
    {
     "name": "stderr",
     "output_type": "stream",
     "text": [
      "18600it [00:01, 9503.36it/s] \n"
     ]
    }
   ],
   "source": [
    "import re\n",
    "\n",
    "from tqdm import tqdm\n",
    "\n",
    "dqr_pattern = r\"The overall DQR of this product is: (?P<overall>[\\d.]+) {P: (?P<P>[\\d.]+), TiR: (?P<TiR>[\\d.]+), GR: (?P<GR>[\\d.]+), TeR: (?P<TeR>[\\d.]+)}\"\n",
    "ciqual_pattern = r\"\\[Ciqual code: (?P<ciqual>[\\d_]+)\\]\"\n",
    "location_pattern = r\"\\{(?P<location>[\\w ,\\/\\-\\+]+)\\}\"\n",
    "location_pattern_2 = r\"\\/\\ *(?P<location>[\\w ,\\/\\-]+) U$\"\n",
    "\n",
    "for activity in tqdm(agb_importer):\n",
    "\n",
    "    # Getting activities locations\n",
    "    if activity.get('location') is None:\n",
    "        match = re.search(pattern=location_pattern, string=activity['name'])\n",
    "        if match is not None:\n",
    "            activity['location'] = match['location']\n",
    "        else:\n",
    "            match = re.search(pattern=location_pattern_2, string=activity['name'])\n",
    "            if match is not None:\n",
    "                activity['location'] = match['location']\n",
    "            elif ('French production,' in activity['name']) or ('French production mix,' in activity['name']):\n",
    "                activity['location'] = 'FR'\n",
    "            elif \"CA - adapted for maple syrup\" in activity['name']:\n",
    "                activity['location'] = 'CA'\n",
    "            elif \", IT\" in activity['name']:\n",
    "                activity['location'] = 'IT'\n",
    "            elif \", TR\" in activity['name']:\n",
    "                activity['location'] = 'TR'\n",
    "            elif \"/GLO\" in activity['name']:\n",
    "                activity['location'] = 'GLO'\n",
    "\n",
    "    # Getting products CIQUAL code when relevant\n",
    "    if 'ciqual' in activity['name'].lower():\n",
    "        match = re.search(pattern=ciqual_pattern, string=activity['name'])\n",
    "        activity['ciqual_code'] = match['ciqual']\n",
    "\n",
    "    # Putting SimaPro metadata in the activity fields directly and removing references to SimaPro\n",
    "    if 'simapro metadata' in activity:\n",
    "        for sp_field, value in activity['simapro metadata'].items():\n",
    "            if value != 'Unspecified':\n",
    "                activity[sp_field] = value\n",
    "\n",
    "        # Getting the Data Quality Rating of the data when relevant\n",
    "        if 'Comment' in activity['simapro metadata']:\n",
    "            match = re.search(pattern=dqr_pattern, string=activity['simapro metadata']['Comment'])\n",
    "\n",
    "            if match:\n",
    "                activity['DQR'] = {'overall': match['overall'],\n",
    "                                   'P': match['P'],\n",
    "                                   'TiR': match['TiR'],\n",
    "                                   'GR': match['GR'],\n",
    "                                   'TeR': match['TeR']}\n",
    "\n",
    "        del activity['simapro metadata']\n",
    "\n",
    "    # Getting activity tags\n",
    "    name_without_spaces = activity['name'].replace(' ', '')\n",
    "    for packaging in packagings:\n",
    "        if f\"|{packaging.replace(' ', '')}|\" in name_without_spaces:\n",
    "            activity['packaging'] = packaging\n",
    "\n",
    "    for stage in stages:\n",
    "        if f\"|{stage.replace(' ', '')}\" in name_without_spaces:\n",
    "            activity['stage'] = stage\n",
    "\n",
    "    for transport_type in transport_types:\n",
    "        if f\"|{transport_type.replace(' ', '')}|\" in name_without_spaces:\n",
    "            activity['transport_type'] = transport_type\n",
    "\n",
    "    for preparation_mode in preparation_modes:\n",
    "        if f\"|{preparation_mode.replace(' ', '')}|\" in name_without_spaces:\n",
    "            activity['preparation_mode'] = preparation_mode\n",
    "\n",
    "    if 'simapro name' in activity:\n",
    "        del activity['simapro name']\n",
    "\n",
    "    if 'filename' in activity:\n",
    "        del activity['filename']"
   ],
   "metadata": {
    "collapsed": false
   }
  },
  {
   "cell_type": "code",
   "execution_count": 13,
   "outputs": [
    {
     "name": "stdout",
     "output_type": "stream",
     "text": [
      "Vacuuming database \n"
     ]
    },
    {
     "name": "stderr",
     "output_type": "stream",
     "text": [
      "Writing activities to SQLite3 database:\n",
      "0% [##############################] 100% | ETA: 00:00:00\n",
      "Total time elapsed: 00:11:42\n"
     ]
    },
    {
     "name": "stdout",
     "output_type": "stream",
     "text": [
      "Title: Writing activities to SQLite3 database:\n",
      "  Started: 09/26/2022 13:30:17\n",
      "  Finished: 09/26/2022 13:42:00\n",
      "  Total time elapsed: 00:11:42\n",
      "  CPU %: 42.40\n",
      "  Memory %: 36.92\n",
      "Created database: agribalyse3.1\n"
     ]
    },
    {
     "data": {
      "text/plain": "Brightway2 SQLiteBackend: agribalyse3.1"
     },
     "execution_count": 13,
     "metadata": {},
     "output_type": "execute_result"
    }
   ],
   "source": [
    "agb_importer.write_database()"
   ],
   "metadata": {
    "collapsed": false
   }
  },
  {
   "cell_type": "code",
   "execution_count": 18,
   "outputs": [
    {
     "data": {
      "text/plain": "'C:\\\\Users\\\\GustaveCoste\\\\PycharmProjects\\\\AGB3.1\\\\data\\\\AGB31.997fcb73a0d517ac31fde2eac01dc094.bw2package'"
     },
     "execution_count": 18,
     "metadata": {},
     "output_type": "execute_result"
    }
   ],
   "source": [
    "import os\n",
    "\n",
    "bw.BW2Package.export_objs([bw.Database('agribalyse3.1 biosphere flows'), bw.Database('agribalyse3.1')],\n",
    "                          filename='AGB3.1', folder=os.path.join(os.path.realpath(''), 'data'))"
   ],
   "metadata": {
    "collapsed": false
   }
  },
  {
   "cell_type": "code",
   "execution_count": null,
   "outputs": [],
   "source": [],
   "metadata": {
    "collapsed": false
   }
  }
 ],
 "metadata": {
  "kernelspec": {
   "display_name": "Python 3",
   "language": "python",
   "name": "python3"
  },
  "language_info": {
   "codemirror_mode": {
    "name": "ipython",
    "version": 2
   },
   "file_extension": ".py",
   "mimetype": "text/x-python",
   "name": "python",
   "nbconvert_exporter": "python",
   "pygments_lexer": "ipython2",
   "version": "2.7.6"
  }
 },
 "nbformat": 4,
 "nbformat_minor": 0
}
