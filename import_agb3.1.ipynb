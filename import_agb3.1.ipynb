{
 "cells": [
  {
   "cell_type": "markdown",
   "source": [
    "# Notebook for importing Agribalyse 3.1 from a SimaPro .csv export"
   ],
   "metadata": {
    "collapsed": false
   }
  },
  {
   "cell_type": "code",
   "execution_count": 1,
   "metadata": {
    "collapsed": true
   },
   "outputs": [],
   "source": [
    "import brightway2 as bw"
   ]
  },
  {
   "cell_type": "code",
   "execution_count": 2,
   "outputs": [],
   "source": [
    "if 'Importing AGB3.1' in bw.projects:\n",
    "   bw.projects.delete_project('Importing AGB3.1')"
   ],
   "metadata": {
    "collapsed": false
   }
  },
  {
   "cell_type": "code",
   "execution_count": 3,
   "outputs": [
    {
     "name": "stdout",
     "output_type": "stream",
     "text": [
      "Creating default biosphere\n",
      "\n",
      "Applying strategy: normalize_units\n",
      "Applying strategy: drop_unspecified_subcategories\n",
      "Applying strategy: ensure_categories_are_tuples\n",
      "Applied 3 strategies in 0.00 seconds\n"
     ]
    },
    {
     "name": "stderr",
     "output_type": "stream",
     "text": [
      "Writing activities to SQLite3 database:\n",
      "0% [##############################] 100% | ETA: 00:00:00\n",
      "Total time elapsed: 00:00:00\n"
     ]
    },
    {
     "name": "stdout",
     "output_type": "stream",
     "text": [
      "Title: Writing activities to SQLite3 database:\n",
      "  Started: 09/23/2022 14:00:55\n",
      "  Finished: 09/23/2022 14:00:56\n",
      "  Total time elapsed: 00:00:00\n",
      "  CPU %: 41.00\n",
      "  Memory %: 1.07\n",
      "Created database: biosphere3\n",
      "Creating default LCIA methods\n",
      "\n",
      "Applying strategy: normalize_units\n",
      "Applying strategy: set_biosphere_type\n",
      "Applying strategy: fix_ecoinvent_38_lcia_implementation\n",
      "Applying strategy: drop_unspecified_subcategories\n",
      "Applying strategy: link_iterable_by_fields\n",
      "Applied 5 strategies in 2.42 seconds\n"
     ]
    },
    {
     "ename": "ValueError",
     "evalue": "Method ('CML 2001 (superseded)', 'terrestrial ecotoxicity', 'TAETP infinite') already exists. Use ``overwrite=True`` to overwrite existing methods",
     "output_type": "error",
     "traceback": [
      "\u001B[1;31m---------------------------------------------------------------------------\u001B[0m",
      "\u001B[1;31mValueError\u001B[0m                                Traceback (most recent call last)",
      "Cell \u001B[1;32mIn [3], line 2\u001B[0m\n\u001B[0;32m      1\u001B[0m bw\u001B[38;5;241m.\u001B[39mprojects\u001B[38;5;241m.\u001B[39mset_current(\u001B[38;5;124m'\u001B[39m\u001B[38;5;124mImporting AGB3.1\u001B[39m\u001B[38;5;124m'\u001B[39m)\n\u001B[1;32m----> 2\u001B[0m \u001B[43mbw\u001B[49m\u001B[38;5;241;43m.\u001B[39;49m\u001B[43mbw2setup\u001B[49m\u001B[43m(\u001B[49m\u001B[43m)\u001B[49m\n",
      "File \u001B[1;32m~\\miniconda3\\envs\\AGB3.1\\lib\\site-packages\\bw2io\\__init__.py:120\u001B[0m, in \u001B[0;36mbw2setup\u001B[1;34m()\u001B[0m\n\u001B[0;32m    118\u001B[0m create_default_biosphere3()\n\u001B[0;32m    119\u001B[0m \u001B[38;5;28mprint\u001B[39m(\u001B[38;5;124m\"\u001B[39m\u001B[38;5;124mCreating default LCIA methods\u001B[39m\u001B[38;5;130;01m\\n\u001B[39;00m\u001B[38;5;124m\"\u001B[39m)\n\u001B[1;32m--> 120\u001B[0m \u001B[43mcreate_default_lcia_methods\u001B[49m\u001B[43m(\u001B[49m\u001B[43m)\u001B[49m\n\u001B[0;32m    121\u001B[0m \u001B[38;5;28mprint\u001B[39m(\u001B[38;5;124m\"\u001B[39m\u001B[38;5;124mCreating core data migrations\u001B[39m\u001B[38;5;130;01m\\n\u001B[39;00m\u001B[38;5;124m\"\u001B[39m)\n\u001B[0;32m    122\u001B[0m create_core_migrations()\n",
      "File \u001B[1;32m~\\miniconda3\\envs\\AGB3.1\\lib\\site-packages\\bw2io\\__init__.py:110\u001B[0m, in \u001B[0;36mcreate_default_lcia_methods\u001B[1;34m(overwrite, rationalize_method_names)\u001B[0m\n\u001B[0;32m    108\u001B[0m     ei\u001B[38;5;241m.\u001B[39madd_rationalize_method_names_strategy()\n\u001B[0;32m    109\u001B[0m ei\u001B[38;5;241m.\u001B[39mapply_strategies()\n\u001B[1;32m--> 110\u001B[0m \u001B[43mei\u001B[49m\u001B[38;5;241;43m.\u001B[39;49m\u001B[43mwrite_methods\u001B[49m\u001B[43m(\u001B[49m\u001B[43moverwrite\u001B[49m\u001B[38;5;241;43m=\u001B[39;49m\u001B[43moverwrite\u001B[49m\u001B[43m)\u001B[49m\n",
      "File \u001B[1;32m~\\miniconda3\\envs\\AGB3.1\\lib\\site-packages\\bw2io\\importers\\base_lcia.py:61\u001B[0m, in \u001B[0;36mLCIAImporter.write_methods\u001B[1;34m(self, overwrite, verbose)\u001B[0m\n\u001B[0;32m     59\u001B[0m         \u001B[38;5;28;01mdel\u001B[39;00m methods[ds[\u001B[38;5;124m\"\u001B[39m\u001B[38;5;124mname\u001B[39m\u001B[38;5;124m\"\u001B[39m]]\n\u001B[0;32m     60\u001B[0m     \u001B[38;5;28;01melse\u001B[39;00m:\n\u001B[1;32m---> 61\u001B[0m         \u001B[38;5;28;01mraise\u001B[39;00m \u001B[38;5;167;01mValueError\u001B[39;00m(\n\u001B[0;32m     62\u001B[0m             (\n\u001B[0;32m     63\u001B[0m                 \u001B[38;5;124mu\u001B[39m\u001B[38;5;124m\"\u001B[39m\u001B[38;5;124mMethod \u001B[39m\u001B[38;5;132;01m{}\u001B[39;00m\u001B[38;5;124m already exists. Use \u001B[39m\u001B[38;5;124m\"\u001B[39m\n\u001B[0;32m     64\u001B[0m                 \u001B[38;5;124mu\u001B[39m\u001B[38;5;124m\"\u001B[39m\u001B[38;5;124m``overwrite=True`` to overwrite existing methods\u001B[39m\u001B[38;5;124m\"\u001B[39m\n\u001B[0;32m     65\u001B[0m             )\u001B[38;5;241m.\u001B[39mformat(ds[\u001B[38;5;124m\"\u001B[39m\u001B[38;5;124mname\u001B[39m\u001B[38;5;124m\"\u001B[39m])\n\u001B[0;32m     66\u001B[0m         )\n\u001B[0;32m     68\u001B[0m \u001B[38;5;28;01mwith\u001B[39;00m warnings\u001B[38;5;241m.\u001B[39mcatch_warnings():\n\u001B[0;32m     69\u001B[0m     warnings\u001B[38;5;241m.\u001B[39msimplefilter(\u001B[38;5;124m\"\u001B[39m\u001B[38;5;124mignore\u001B[39m\u001B[38;5;124m\"\u001B[39m)\n",
      "\u001B[1;31mValueError\u001B[0m: Method ('CML 2001 (superseded)', 'terrestrial ecotoxicity', 'TAETP infinite') already exists. Use ``overwrite=True`` to overwrite existing methods"
     ]
    }
   ],
   "source": [
    "bw.projects.set_current('Importing AGB3.1')\n",
    "bw.bw2setup()"
   ],
   "metadata": {
    "collapsed": false
   }
  },
  {
   "cell_type": "markdown",
   "source": [
    "Some custom migrations are necessary"
   ],
   "metadata": {
    "collapsed": false
   }
  },
  {
   "cell_type": "code",
   "execution_count": 4,
   "outputs": [],
   "source": [
    "agb_csv_filepath = r\"data/AGB3.1.CSV\"\n",
    "\n",
    "agb_technosphere_migration_data = {\n",
    "    'fields': ['name', 'unit'],\n",
    "    'data': [\n",
    "        (\n",
    "            (\n",
    "                'Wastewater, average {Europe without Switzerland}| market for wastewater, average | Cut-off, S - Copied from Ecoinvent',\n",
    "                'litre'),\n",
    "            {\n",
    "                'unit': 'cubic meter',\n",
    "                'multiplier': 10e-3\n",
    "            }\n",
    "        ),\n",
    "        (\n",
    "            (\n",
    "                'Wastewater, from residence {RoW}| market for wastewater, from residence | Cut-off, S - Copied from Ecoinvent',\n",
    "                'litre'),\n",
    "            {\n",
    "                'unit': 'cubic meter',\n",
    "                'multiplier': 10e-3\n",
    "            }\n",
    "        ),\n",
    "        (\n",
    "            (\n",
    "                'Heat, central or small-scale, natural gas {Europe without Switzerland}| market for heat, central or small-scale, natural gas | Cut-off, S - Copied from Ecoinvent',\n",
    "                'kilowatt hour'),\n",
    "            {\n",
    "                'unit': 'megajoule',\n",
    "                'multiplier': 3.6\n",
    "            }\n",
    "        ),\n",
    "        (\n",
    "            (\n",
    "                'Heat, district or industrial, natural gas {Europe without Switzerland}| heat production, natural gas, at industrial furnace >100kW | Cut-off, S - Copied from Ecoinvent',\n",
    "                'kilowatt hour'),\n",
    "            {\n",
    "                'unit': 'megajoule',\n",
    "                'multiplier': 3.6\n",
    "            }\n",
    "        ),\n",
    "        (\n",
    "            ('Heat, district or industrial, natural gas {RER}| market group for | Cut-off, S - Copied from Ecoinvent',\n",
    "             'kilowatt hour'),\n",
    "            {\n",
    "                'unit': 'megajoule',\n",
    "                'multiplier': 3.6\n",
    "            }\n",
    "        ),\n",
    "        (\n",
    "            (\n",
    "                'Heat, district or industrial, natural gas {RoW}| market for heat, district or industrial, natural gas | Cut-off, S - Copied from Ecoinvent',\n",
    "                'kilowatt hour'),\n",
    "            {\n",
    "                'unit': 'megajoule',\n",
    "                'multiplier': 3.6\n",
    "            }\n",
    "        ),\n",
    "        (\n",
    "            (\n",
    "                'Land use change, perennial crop {BR}| market group for land use change, perennial crop | Cut-off, S - Copied from Ecoinvent',\n",
    "                'square meter'),\n",
    "            {\n",
    "                'unit': 'hectare',\n",
    "                'multiplier': 10e-4\n",
    "            }\n",
    "        ),\n",
    "    ]\n",
    "}"
   ],
   "metadata": {
    "collapsed": false
   }
  },
  {
   "cell_type": "markdown",
   "source": [
    "## Importing and linking the data"
   ],
   "metadata": {
    "collapsed": false
   }
  },
  {
   "cell_type": "code",
   "execution_count": 5,
   "outputs": [
    {
     "name": "stdout",
     "output_type": "stream",
     "text": [
      "Extracted 17557 unallocated datasets in 101.79 seconds\n",
      "Applying strategy: normalize_units\n",
      "Applying strategy: update_ecoinvent_locations\n",
      "Applying strategy: assign_only_product_as_production\n",
      "Applying strategy: drop_unspecified_subcategories\n",
      "Applying strategy: sp_allocate_products\n",
      "Applying strategy: fix_zero_allocation_products\n",
      "Applying strategy: split_simapro_name_geo\n",
      "Applying strategy: strip_biosphere_exc_locations\n",
      "Applying strategy: migrate_datasets\n",
      "Applying strategy: migrate_exchanges\n",
      "Applying strategy: set_code_by_activity_hash\n",
      "Applying strategy: link_technosphere_based_on_name_unit_location\n",
      "Applying strategy: change_electricity_unit_mj_to_kwh\n",
      "Applying strategy: set_lognormal_loc_value_uncertainty_safe\n",
      "Applying strategy: normalize_biosphere_categories\n",
      "Applying strategy: normalize_simapro_biosphere_categories\n",
      "Applying strategy: normalize_biosphere_names\n",
      "Applying strategy: normalize_simapro_biosphere_names\n",
      "Applying strategy: migrate_exchanges\n",
      "Applying strategy: fix_localized_water_flows\n",
      "Applying strategy: link_iterable_by_fields\n",
      "Applying strategy: convert_activity_parameters_to_list\n",
      "Applied 22 strategies in 131.10 seconds\n",
      "Applying strategy: normalize_units\n",
      "Applying strategy: update_ecoinvent_locations\n",
      "Applying strategy: assign_only_product_as_production\n",
      "Applying strategy: drop_unspecified_subcategories\n",
      "Applying strategy: sp_allocate_products\n",
      "Applying strategy: fix_zero_allocation_products\n",
      "Applying strategy: split_simapro_name_geo\n",
      "Applying strategy: strip_biosphere_exc_locations\n",
      "Applying strategy: migrate_datasets\n",
      "Applying strategy: migrate_exchanges\n",
      "Applying strategy: set_code_by_activity_hash\n",
      "Applying strategy: link_technosphere_based_on_name_unit_location\n",
      "Applying strategy: change_electricity_unit_mj_to_kwh\n",
      "Applying strategy: set_lognormal_loc_value_uncertainty_safe\n",
      "Applying strategy: normalize_biosphere_categories\n",
      "Applying strategy: normalize_simapro_biosphere_categories\n",
      "Applying strategy: normalize_biosphere_names\n",
      "Applying strategy: normalize_simapro_biosphere_names\n",
      "Applying strategy: migrate_exchanges\n",
      "Applying strategy: fix_localized_water_flows\n",
      "Applying strategy: link_iterable_by_fields\n",
      "Applying strategy: convert_activity_parameters_to_list\n",
      "Applied 22 strategies in 113.14 seconds\n",
      "Applying strategy: migrate_datasets\n",
      "Applying strategy: migrate_exchanges\n",
      "18560 datasets\n",
      "5068215 exchanges\n",
      "294477 unlinked exchanges\n",
      "  Type biosphere: 1883 unique unlinked exchanges\n",
      "  Type technosphere: 57 unique unlinked exchanges\n"
     ]
    },
    {
     "data": {
      "text/plain": "(18560, 5068215, 294477)"
     },
     "execution_count": 5,
     "metadata": {},
     "output_type": "execute_result"
    }
   ],
   "source": [
    "agb_importer = bw.SimaProCSVImporter(agb_csv_filepath, \"agribalyse3.1\")\n",
    "\n",
    "agb_technosphere_migration = bw.Migration(\"agb-technosphere\")\n",
    "agb_technosphere_migration.write(\n",
    "    agb_technosphere_migration_data,\n",
    "    description=\"Specific technosphere fixes for Agribalyse 3\"\n",
    ")\n",
    "\n",
    "agb_importer.apply_strategies()\n",
    "agb_importer.apply_strategies()\n",
    "agb_importer.migrate(\"agb-technosphere\")\n",
    "agb_importer.statistics()"
   ],
   "metadata": {
    "collapsed": false
   }
  },
  {
   "cell_type": "code",
   "execution_count": 6,
   "outputs": [
    {
     "name": "stdout",
     "output_type": "stream",
     "text": [
      "Applying strategy: normalize_units\n",
      "Applying strategy: update_ecoinvent_locations\n",
      "Applying strategy: assign_only_product_as_production\n",
      "Applying strategy: drop_unspecified_subcategories\n",
      "Applying strategy: sp_allocate_products\n",
      "Applying strategy: fix_zero_allocation_products\n",
      "Applying strategy: split_simapro_name_geo\n",
      "Applying strategy: strip_biosphere_exc_locations\n",
      "Applying strategy: migrate_datasets\n",
      "Applying strategy: migrate_exchanges\n",
      "Applying strategy: set_code_by_activity_hash\n",
      "Applying strategy: link_technosphere_based_on_name_unit_location\n",
      "Applying strategy: change_electricity_unit_mj_to_kwh\n",
      "Applying strategy: set_lognormal_loc_value_uncertainty_safe\n",
      "Applying strategy: normalize_biosphere_categories\n",
      "Applying strategy: normalize_simapro_biosphere_categories\n",
      "Applying strategy: normalize_biosphere_names\n",
      "Applying strategy: normalize_simapro_biosphere_names\n",
      "Applying strategy: migrate_exchanges\n",
      "Applying strategy: fix_localized_water_flows\n",
      "Applying strategy: link_iterable_by_fields\n",
      "Applying strategy: convert_activity_parameters_to_list\n",
      "Applied 22 strategies in 98.36 seconds\n",
      "18560 datasets\n",
      "5068215 exchanges\n",
      "294240 unlinked exchanges\n",
      "  Type biosphere: 1883 unique unlinked exchanges\n",
      "  Type technosphere: 49 unique unlinked exchanges\n"
     ]
    },
    {
     "data": {
      "text/plain": "(18560, 5068215, 294240)"
     },
     "execution_count": 6,
     "metadata": {},
     "output_type": "execute_result"
    }
   ],
   "source": [
    "agb_importer.apply_strategies()\n",
    "agb_importer.statistics()"
   ],
   "metadata": {
    "collapsed": false
   }
  },
  {
   "cell_type": "markdown",
   "source": [
    "## Writing unlinked data"
   ],
   "metadata": {
    "collapsed": false
   }
  },
  {
   "cell_type": "code",
   "execution_count": 7,
   "outputs": [
    {
     "name": "stdout",
     "output_type": "stream",
     "text": [
      "Wrote matching file to:\n",
      "C:\\Users\\GustaveCoste\\AppData\\Local\\pylca\\Brightway3\\Importing-AGB31.1200211839fb49bd0efc0b8ce016e951\\output\\db-matching-agribalyse31-unlinked.xlsx\n"
     ]
    }
   ],
   "source": [
    "agb_importer.write_excel(only_unlinked=True)"
   ],
   "metadata": {
    "collapsed": false
   }
  },
  {
   "cell_type": "code",
   "execution_count": 8,
   "outputs": [
    {
     "name": "stderr",
     "output_type": "stream",
     "text": [
      "Writing activities to SQLite3 database:\n",
      "0% [##############################] 100% | ETA: 00:00:00\n",
      "Total time elapsed: 00:00:00\n"
     ]
    },
    {
     "name": "stdout",
     "output_type": "stream",
     "text": [
      "Title: Writing activities to SQLite3 database:\n",
      "  Started: 09/23/2022 14:17:20\n",
      "  Finished: 09/23/2022 14:17:20\n",
      "  Total time elapsed: 00:00:00\n",
      "  CPU %: 47.00\n",
      "  Memory %: 34.04\n",
      "Applying strategy: link_iterable_by_fields\n",
      "Applying strategy: link_iterable_by_fields\n",
      "18609 datasets\n",
      "5068215 exchanges\n",
      "0 unlinked exchanges\n",
      "  \n"
     ]
    },
    {
     "data": {
      "text/plain": "(18609, 5068215, 0)"
     },
     "execution_count": 8,
     "metadata": {},
     "output_type": "execute_result"
    }
   ],
   "source": [
    "bw.Database('Agribalyse3.1 biosphere flows').register()\n",
    "agb_importer.add_unlinked_flows_to_biosphere_database('Agribalyse3.1 biosphere flows')\n",
    "agb_importer.add_unlinked_activities()\n",
    "agb_importer.statistics()"
   ],
   "metadata": {
    "collapsed": false
   }
  },
  {
   "cell_type": "markdown",
   "source": [
    "## Processing metadata"
   ],
   "metadata": {
    "collapsed": false
   }
  },
  {
   "cell_type": "code",
   "execution_count": 10,
   "outputs": [
    {
     "name": "stderr",
     "output_type": "stream",
     "text": [
      "18609it [00:00, 718358.47it/s]\n"
     ]
    }
   ],
   "source": [
    "import re\n",
    "\n",
    "from tqdm import tqdm\n",
    "\n",
    "dqr_pattern = r\"The overall DQR of this product is: (?P<overall>[\\d.]+) {P: (?P<P>[\\d.]+), TiR: (?P<TiR>[\\d.]+), GR: (?P<GR>[\\d.]+), TeR: (?P<TeR>[\\d.]+)}\"\n",
    "ciqual_pattern = r\"\\[Ciqual code: (?P<ciqual>[\\d_]+)\\]\"\n",
    "location_pattern = r\" \\{(?P<location>[\\w-]+)\\}\\|\"\n",
    "\n",
    "for activity in tqdm(agb_importer):\n",
    "\n",
    "    # Getting activities locations\n",
    "    if activity.get('location') is None:\n",
    "        if '/FR' in activity['name']:\n",
    "            activity['location'] = 'FR'\n",
    "        else:\n",
    "            match = re.search(pattern=location_pattern, string=activity['name'])\n",
    "            if match is not None:\n",
    "                activity['location'] = match['location']\n",
    "\n",
    "    # Getting products CIQUAL code when relevant\n",
    "    if 'ciqual' in activity['name'].lower():\n",
    "        match = re.search(pattern=ciqual_pattern, string=activity['name'])\n",
    "        activity['ciqual_code'] = match['ciqual']\n",
    "\n",
    "    # Putting SimaPro metadata in the activity fields directly and removing references to SimaPro\n",
    "    if 'simapro metadata' in activity:\n",
    "        for sp_field, value in activity['simapro metadata'].items():\n",
    "            if value != 'Unspecified':\n",
    "                activity[sp_field] = value\n",
    "\n",
    "        # Getting the Data Quality Rating of the data when relevant\n",
    "        if 'Comment' in activity['simapro metadata']:\n",
    "            match = re.search(pattern=dqr_pattern, string=activity['simapro metadata']['Comment'])\n",
    "\n",
    "            if match:\n",
    "                activity['DQR'] = {'overall': match['overall'],\n",
    "                                   'P': match['P'],\n",
    "                                   'TiR': match['TiR'],\n",
    "                                   'GR': match['GR'],\n",
    "                                   'TeR': match['TeR']}\n",
    "\n",
    "        del activity['simapro metadata']\n",
    "\n",
    "    if 'simapro name' in activity:\n",
    "        del activity['simapro name']"
   ],
   "metadata": {
    "collapsed": false
   }
  },
  {
   "cell_type": "code",
   "execution_count": 13,
   "outputs": [
    {
     "name": "stderr",
     "output_type": "stream",
     "text": [
      "Writing activities to SQLite3 database:\n",
      "0% [##############################] 100% | ETA: 00:00:00\n",
      "Total time elapsed: 00:21:48\n"
     ]
    },
    {
     "name": "stdout",
     "output_type": "stream",
     "text": [
      "Title: Writing activities to SQLite3 database:\n",
      "  Started: 09/23/2022 14:24:51\n",
      "  Finished: 09/23/2022 14:46:40\n",
      "  Total time elapsed: 00:21:48\n",
      "  CPU %: 70.80\n",
      "  Memory %: 33.35\n",
      "Created database: agribalyse3.1\n"
     ]
    },
    {
     "data": {
      "text/plain": "Brightway2 SQLiteBackend: agribalyse3.1"
     },
     "execution_count": 13,
     "metadata": {},
     "output_type": "execute_result"
    }
   ],
   "source": [
    "agb_importer.write_database()"
   ],
   "metadata": {
    "collapsed": false
   }
  },
  {
   "cell_type": "code",
   "execution_count": 20,
   "outputs": [
    {
     "ename": "KeyboardInterrupt",
     "evalue": "",
     "output_type": "error",
     "traceback": [
      "\u001B[1;31m---------------------------------------------------------------------------\u001B[0m",
      "\u001B[1;31mKeyboardInterrupt\u001B[0m                         Traceback (most recent call last)",
      "Cell \u001B[1;32mIn [20], line 1\u001B[0m\n\u001B[1;32m----> 1\u001B[0m \u001B[43mbw\u001B[49m\u001B[38;5;241;43m.\u001B[39;49m\u001B[43mBW2Package\u001B[49m\u001B[38;5;241;43m.\u001B[39;49m\u001B[43mexport_objs\u001B[49m\u001B[43m(\u001B[49m\u001B[43m[\u001B[49m\u001B[43mbw\u001B[49m\u001B[38;5;241;43m.\u001B[39;49m\u001B[43mDatabase\u001B[49m\u001B[43m(\u001B[49m\u001B[38;5;124;43m'\u001B[39;49m\u001B[38;5;124;43magribalyse3.1\u001B[39;49m\u001B[38;5;124;43m'\u001B[39;49m\u001B[43m)\u001B[49m\u001B[43m,\u001B[49m\u001B[43m \u001B[49m\u001B[43mbw\u001B[49m\u001B[38;5;241;43m.\u001B[39;49m\u001B[43mDatabase\u001B[49m\u001B[43m(\u001B[49m\u001B[38;5;124;43m'\u001B[39;49m\u001B[38;5;124;43mAgribalyse3.1 biosphere flows\u001B[39;49m\u001B[38;5;124;43m'\u001B[39;49m\u001B[43m)\u001B[49m\u001B[43m]\u001B[49m\u001B[43m,\u001B[49m\u001B[43m \u001B[49m\u001B[43mfilename\u001B[49m\u001B[38;5;241;43m=\u001B[39;49m\u001B[38;5;124;43m'\u001B[39;49m\u001B[38;5;124;43mAGB3.1.bw2package\u001B[39;49m\u001B[38;5;124;43m'\u001B[39;49m\u001B[43m,\u001B[49m\u001B[43m \u001B[49m\u001B[43mfolder\u001B[49m\u001B[38;5;241;43m=\u001B[39;49m\u001B[38;5;124;43m'\u001B[39;49m\u001B[38;5;124;43mdata\u001B[39;49m\u001B[38;5;124;43m'\u001B[39;49m\u001B[43m)\u001B[49m\n",
      "File \u001B[1;32m~\\miniconda3\\envs\\AGB3.1\\lib\\site-packages\\bw2io\\package.py:143\u001B[0m, in \u001B[0;36mBW2Package.export_objs\u001B[1;34m(cls, objs, filename, folder, backwards_compatible)\u001B[0m\n\u001B[0;32m    128\u001B[0m \u001B[38;5;124;03m\"\"\"Export a list of objects. Can have heterogeneous types.\u001B[39;00m\n\u001B[0;32m    129\u001B[0m \n\u001B[0;32m    130\u001B[0m \u001B[38;5;124;03mArgs:\u001B[39;00m\n\u001B[1;32m   (...)\u001B[0m\n\u001B[0;32m    138\u001B[0m \n\u001B[0;32m    139\u001B[0m \u001B[38;5;124;03m\"\"\"\u001B[39;00m\n\u001B[0;32m    140\u001B[0m filepath \u001B[38;5;241m=\u001B[39m os\u001B[38;5;241m.\u001B[39mpath\u001B[38;5;241m.\u001B[39mjoin(\n\u001B[0;32m    141\u001B[0m     projects\u001B[38;5;241m.\u001B[39mrequest_directory(folder), safe_filename(filename) \u001B[38;5;241m+\u001B[39m \u001B[38;5;124mu\u001B[39m\u001B[38;5;124m\"\u001B[39m\u001B[38;5;124m.bw2package\u001B[39m\u001B[38;5;124m\"\u001B[39m\n\u001B[0;32m    142\u001B[0m )\n\u001B[1;32m--> 143\u001B[0m \u001B[38;5;28;43mcls\u001B[39;49m\u001B[38;5;241;43m.\u001B[39;49m\u001B[43m_write_file\u001B[49m\u001B[43m(\u001B[49m\n\u001B[0;32m    144\u001B[0m \u001B[43m    \u001B[49m\u001B[43mfilepath\u001B[49m\u001B[43m,\u001B[49m\u001B[43m \u001B[49m\u001B[43m[\u001B[49m\u001B[38;5;28;43mcls\u001B[39;49m\u001B[38;5;241;43m.\u001B[39;49m\u001B[43m_prepare_obj\u001B[49m\u001B[43m(\u001B[49m\u001B[43mo\u001B[49m\u001B[43m,\u001B[49m\u001B[43m \u001B[49m\u001B[43mbackwards_compatible\u001B[49m\u001B[43m)\u001B[49m\u001B[43m \u001B[49m\u001B[38;5;28;43;01mfor\u001B[39;49;00m\u001B[43m \u001B[49m\u001B[43mo\u001B[49m\u001B[43m \u001B[49m\u001B[38;5;129;43;01min\u001B[39;49;00m\u001B[43m \u001B[49m\u001B[43mobjs\u001B[49m\u001B[43m]\u001B[49m\n\u001B[0;32m    145\u001B[0m \u001B[43m\u001B[49m\u001B[43m)\u001B[49m\n\u001B[0;32m    146\u001B[0m \u001B[38;5;28;01mreturn\u001B[39;00m filepath\n",
      "File \u001B[1;32m~\\miniconda3\\envs\\AGB3.1\\lib\\site-packages\\bw2io\\package.py:124\u001B[0m, in \u001B[0;36mBW2Package._write_file\u001B[1;34m(cls, filepath, data)\u001B[0m\n\u001B[0;32m    122\u001B[0m \u001B[38;5;129m@classmethod\u001B[39m\n\u001B[0;32m    123\u001B[0m \u001B[38;5;28;01mdef\u001B[39;00m \u001B[38;5;21m_write_file\u001B[39m(\u001B[38;5;28mcls\u001B[39m, filepath, data):\n\u001B[1;32m--> 124\u001B[0m     JsonWrapper\u001B[38;5;241m.\u001B[39mdump_bz2(\u001B[43mJsonSanitizer\u001B[49m\u001B[38;5;241;43m.\u001B[39;49m\u001B[43msanitize\u001B[49m\u001B[43m(\u001B[49m\u001B[43mdata\u001B[49m\u001B[43m)\u001B[49m, filepath)\n",
      "File \u001B[1;32m~\\miniconda3\\envs\\AGB3.1\\lib\\site-packages\\bw2data\\serialization.py:89\u001B[0m, in \u001B[0;36mJsonSanitizer.sanitize\u001B[1;34m(cls, data)\u001B[0m\n\u001B[0;32m     83\u001B[0m     \u001B[38;5;28;01mreturn\u001B[39;00m {\n\u001B[0;32m     84\u001B[0m         \u001B[38;5;124m'\u001B[39m\u001B[38;5;124m__dict__\u001B[39m\u001B[38;5;124m'\u001B[39m: \u001B[38;5;28;01mTrue\u001B[39;00m,\n\u001B[0;32m     85\u001B[0m         \u001B[38;5;124m'\u001B[39m\u001B[38;5;124mkeys\u001B[39m\u001B[38;5;124m'\u001B[39m: [\u001B[38;5;28mcls\u001B[39m\u001B[38;5;241m.\u001B[39msanitize(x) \u001B[38;5;28;01mfor\u001B[39;00m x \u001B[38;5;129;01min\u001B[39;00m data\u001B[38;5;241m.\u001B[39mkeys()],\n\u001B[0;32m     86\u001B[0m         \u001B[38;5;124m'\u001B[39m\u001B[38;5;124mvalues\u001B[39m\u001B[38;5;124m'\u001B[39m: [\u001B[38;5;28mcls\u001B[39m\u001B[38;5;241m.\u001B[39msanitize(x) \u001B[38;5;28;01mfor\u001B[39;00m x \u001B[38;5;129;01min\u001B[39;00m data\u001B[38;5;241m.\u001B[39mvalues()]\n\u001B[0;32m     87\u001B[0m     }\n\u001B[0;32m     88\u001B[0m \u001B[38;5;28;01melif\u001B[39;00m \u001B[38;5;28misinstance\u001B[39m(data, \u001B[38;5;28mlist\u001B[39m):\n\u001B[1;32m---> 89\u001B[0m     \u001B[38;5;28;01mreturn\u001B[39;00m [\u001B[38;5;28mcls\u001B[39m\u001B[38;5;241m.\u001B[39msanitize(x) \u001B[38;5;28;01mfor\u001B[39;00m x \u001B[38;5;129;01min\u001B[39;00m data]\n\u001B[0;32m     90\u001B[0m \u001B[38;5;28;01melse\u001B[39;00m:\n\u001B[0;32m     91\u001B[0m     \u001B[38;5;28;01mreturn\u001B[39;00m data\n",
      "File \u001B[1;32m~\\miniconda3\\envs\\AGB3.1\\lib\\site-packages\\bw2data\\serialization.py:89\u001B[0m, in \u001B[0;36m<listcomp>\u001B[1;34m(.0)\u001B[0m\n\u001B[0;32m     83\u001B[0m     \u001B[38;5;28;01mreturn\u001B[39;00m {\n\u001B[0;32m     84\u001B[0m         \u001B[38;5;124m'\u001B[39m\u001B[38;5;124m__dict__\u001B[39m\u001B[38;5;124m'\u001B[39m: \u001B[38;5;28;01mTrue\u001B[39;00m,\n\u001B[0;32m     85\u001B[0m         \u001B[38;5;124m'\u001B[39m\u001B[38;5;124mkeys\u001B[39m\u001B[38;5;124m'\u001B[39m: [\u001B[38;5;28mcls\u001B[39m\u001B[38;5;241m.\u001B[39msanitize(x) \u001B[38;5;28;01mfor\u001B[39;00m x \u001B[38;5;129;01min\u001B[39;00m data\u001B[38;5;241m.\u001B[39mkeys()],\n\u001B[0;32m     86\u001B[0m         \u001B[38;5;124m'\u001B[39m\u001B[38;5;124mvalues\u001B[39m\u001B[38;5;124m'\u001B[39m: [\u001B[38;5;28mcls\u001B[39m\u001B[38;5;241m.\u001B[39msanitize(x) \u001B[38;5;28;01mfor\u001B[39;00m x \u001B[38;5;129;01min\u001B[39;00m data\u001B[38;5;241m.\u001B[39mvalues()]\n\u001B[0;32m     87\u001B[0m     }\n\u001B[0;32m     88\u001B[0m \u001B[38;5;28;01melif\u001B[39;00m \u001B[38;5;28misinstance\u001B[39m(data, \u001B[38;5;28mlist\u001B[39m):\n\u001B[1;32m---> 89\u001B[0m     \u001B[38;5;28;01mreturn\u001B[39;00m [\u001B[38;5;28;43mcls\u001B[39;49m\u001B[38;5;241;43m.\u001B[39;49m\u001B[43msanitize\u001B[49m\u001B[43m(\u001B[49m\u001B[43mx\u001B[49m\u001B[43m)\u001B[49m \u001B[38;5;28;01mfor\u001B[39;00m x \u001B[38;5;129;01min\u001B[39;00m data]\n\u001B[0;32m     90\u001B[0m \u001B[38;5;28;01melse\u001B[39;00m:\n\u001B[0;32m     91\u001B[0m     \u001B[38;5;28;01mreturn\u001B[39;00m data\n",
      "File \u001B[1;32m~\\miniconda3\\envs\\AGB3.1\\lib\\site-packages\\bw2data\\serialization.py:86\u001B[0m, in \u001B[0;36mJsonSanitizer.sanitize\u001B[1;34m(cls, data)\u001B[0m\n\u001B[0;32m     78\u001B[0m     \u001B[38;5;28;01mreturn\u001B[39;00m {\n\u001B[0;32m     79\u001B[0m         \u001B[38;5;124m'\u001B[39m\u001B[38;5;124m__tuple__\u001B[39m\u001B[38;5;124m'\u001B[39m: \u001B[38;5;28;01mTrue\u001B[39;00m,\n\u001B[0;32m     80\u001B[0m         \u001B[38;5;124m'\u001B[39m\u001B[38;5;124mdata\u001B[39m\u001B[38;5;124m'\u001B[39m: [\u001B[38;5;28mcls\u001B[39m\u001B[38;5;241m.\u001B[39msanitize(x) \u001B[38;5;28;01mfor\u001B[39;00m x \u001B[38;5;129;01min\u001B[39;00m data]\n\u001B[0;32m     81\u001B[0m     }\n\u001B[0;32m     82\u001B[0m \u001B[38;5;28;01melif\u001B[39;00m \u001B[38;5;28misinstance\u001B[39m(data, \u001B[38;5;28mdict\u001B[39m):\n\u001B[0;32m     83\u001B[0m     \u001B[38;5;28;01mreturn\u001B[39;00m {\n\u001B[0;32m     84\u001B[0m         \u001B[38;5;124m'\u001B[39m\u001B[38;5;124m__dict__\u001B[39m\u001B[38;5;124m'\u001B[39m: \u001B[38;5;28;01mTrue\u001B[39;00m,\n\u001B[0;32m     85\u001B[0m         \u001B[38;5;124m'\u001B[39m\u001B[38;5;124mkeys\u001B[39m\u001B[38;5;124m'\u001B[39m: [\u001B[38;5;28mcls\u001B[39m\u001B[38;5;241m.\u001B[39msanitize(x) \u001B[38;5;28;01mfor\u001B[39;00m x \u001B[38;5;129;01min\u001B[39;00m data\u001B[38;5;241m.\u001B[39mkeys()],\n\u001B[1;32m---> 86\u001B[0m         \u001B[38;5;124m'\u001B[39m\u001B[38;5;124mvalues\u001B[39m\u001B[38;5;124m'\u001B[39m: [\u001B[38;5;28mcls\u001B[39m\u001B[38;5;241m.\u001B[39msanitize(x) \u001B[38;5;28;01mfor\u001B[39;00m x \u001B[38;5;129;01min\u001B[39;00m data\u001B[38;5;241m.\u001B[39mvalues()]\n\u001B[0;32m     87\u001B[0m     }\n\u001B[0;32m     88\u001B[0m \u001B[38;5;28;01melif\u001B[39;00m \u001B[38;5;28misinstance\u001B[39m(data, \u001B[38;5;28mlist\u001B[39m):\n\u001B[0;32m     89\u001B[0m     \u001B[38;5;28;01mreturn\u001B[39;00m [\u001B[38;5;28mcls\u001B[39m\u001B[38;5;241m.\u001B[39msanitize(x) \u001B[38;5;28;01mfor\u001B[39;00m x \u001B[38;5;129;01min\u001B[39;00m data]\n",
      "File \u001B[1;32m~\\miniconda3\\envs\\AGB3.1\\lib\\site-packages\\bw2data\\serialization.py:86\u001B[0m, in \u001B[0;36m<listcomp>\u001B[1;34m(.0)\u001B[0m\n\u001B[0;32m     78\u001B[0m     \u001B[38;5;28;01mreturn\u001B[39;00m {\n\u001B[0;32m     79\u001B[0m         \u001B[38;5;124m'\u001B[39m\u001B[38;5;124m__tuple__\u001B[39m\u001B[38;5;124m'\u001B[39m: \u001B[38;5;28;01mTrue\u001B[39;00m,\n\u001B[0;32m     80\u001B[0m         \u001B[38;5;124m'\u001B[39m\u001B[38;5;124mdata\u001B[39m\u001B[38;5;124m'\u001B[39m: [\u001B[38;5;28mcls\u001B[39m\u001B[38;5;241m.\u001B[39msanitize(x) \u001B[38;5;28;01mfor\u001B[39;00m x \u001B[38;5;129;01min\u001B[39;00m data]\n\u001B[0;32m     81\u001B[0m     }\n\u001B[0;32m     82\u001B[0m \u001B[38;5;28;01melif\u001B[39;00m \u001B[38;5;28misinstance\u001B[39m(data, \u001B[38;5;28mdict\u001B[39m):\n\u001B[0;32m     83\u001B[0m     \u001B[38;5;28;01mreturn\u001B[39;00m {\n\u001B[0;32m     84\u001B[0m         \u001B[38;5;124m'\u001B[39m\u001B[38;5;124m__dict__\u001B[39m\u001B[38;5;124m'\u001B[39m: \u001B[38;5;28;01mTrue\u001B[39;00m,\n\u001B[0;32m     85\u001B[0m         \u001B[38;5;124m'\u001B[39m\u001B[38;5;124mkeys\u001B[39m\u001B[38;5;124m'\u001B[39m: [\u001B[38;5;28mcls\u001B[39m\u001B[38;5;241m.\u001B[39msanitize(x) \u001B[38;5;28;01mfor\u001B[39;00m x \u001B[38;5;129;01min\u001B[39;00m data\u001B[38;5;241m.\u001B[39mkeys()],\n\u001B[1;32m---> 86\u001B[0m         \u001B[38;5;124m'\u001B[39m\u001B[38;5;124mvalues\u001B[39m\u001B[38;5;124m'\u001B[39m: [\u001B[38;5;28;43mcls\u001B[39;49m\u001B[38;5;241;43m.\u001B[39;49m\u001B[43msanitize\u001B[49m\u001B[43m(\u001B[49m\u001B[43mx\u001B[49m\u001B[43m)\u001B[49m \u001B[38;5;28;01mfor\u001B[39;00m x \u001B[38;5;129;01min\u001B[39;00m data\u001B[38;5;241m.\u001B[39mvalues()]\n\u001B[0;32m     87\u001B[0m     }\n\u001B[0;32m     88\u001B[0m \u001B[38;5;28;01melif\u001B[39;00m \u001B[38;5;28misinstance\u001B[39m(data, \u001B[38;5;28mlist\u001B[39m):\n\u001B[0;32m     89\u001B[0m     \u001B[38;5;28;01mreturn\u001B[39;00m [\u001B[38;5;28mcls\u001B[39m\u001B[38;5;241m.\u001B[39msanitize(x) \u001B[38;5;28;01mfor\u001B[39;00m x \u001B[38;5;129;01min\u001B[39;00m data]\n",
      "File \u001B[1;32m~\\miniconda3\\envs\\AGB3.1\\lib\\site-packages\\bw2data\\serialization.py:86\u001B[0m, in \u001B[0;36mJsonSanitizer.sanitize\u001B[1;34m(cls, data)\u001B[0m\n\u001B[0;32m     78\u001B[0m     \u001B[38;5;28;01mreturn\u001B[39;00m {\n\u001B[0;32m     79\u001B[0m         \u001B[38;5;124m'\u001B[39m\u001B[38;5;124m__tuple__\u001B[39m\u001B[38;5;124m'\u001B[39m: \u001B[38;5;28;01mTrue\u001B[39;00m,\n\u001B[0;32m     80\u001B[0m         \u001B[38;5;124m'\u001B[39m\u001B[38;5;124mdata\u001B[39m\u001B[38;5;124m'\u001B[39m: [\u001B[38;5;28mcls\u001B[39m\u001B[38;5;241m.\u001B[39msanitize(x) \u001B[38;5;28;01mfor\u001B[39;00m x \u001B[38;5;129;01min\u001B[39;00m data]\n\u001B[0;32m     81\u001B[0m     }\n\u001B[0;32m     82\u001B[0m \u001B[38;5;28;01melif\u001B[39;00m \u001B[38;5;28misinstance\u001B[39m(data, \u001B[38;5;28mdict\u001B[39m):\n\u001B[0;32m     83\u001B[0m     \u001B[38;5;28;01mreturn\u001B[39;00m {\n\u001B[0;32m     84\u001B[0m         \u001B[38;5;124m'\u001B[39m\u001B[38;5;124m__dict__\u001B[39m\u001B[38;5;124m'\u001B[39m: \u001B[38;5;28;01mTrue\u001B[39;00m,\n\u001B[0;32m     85\u001B[0m         \u001B[38;5;124m'\u001B[39m\u001B[38;5;124mkeys\u001B[39m\u001B[38;5;124m'\u001B[39m: [\u001B[38;5;28mcls\u001B[39m\u001B[38;5;241m.\u001B[39msanitize(x) \u001B[38;5;28;01mfor\u001B[39;00m x \u001B[38;5;129;01min\u001B[39;00m data\u001B[38;5;241m.\u001B[39mkeys()],\n\u001B[1;32m---> 86\u001B[0m         \u001B[38;5;124m'\u001B[39m\u001B[38;5;124mvalues\u001B[39m\u001B[38;5;124m'\u001B[39m: [\u001B[38;5;28mcls\u001B[39m\u001B[38;5;241m.\u001B[39msanitize(x) \u001B[38;5;28;01mfor\u001B[39;00m x \u001B[38;5;129;01min\u001B[39;00m data\u001B[38;5;241m.\u001B[39mvalues()]\n\u001B[0;32m     87\u001B[0m     }\n\u001B[0;32m     88\u001B[0m \u001B[38;5;28;01melif\u001B[39;00m \u001B[38;5;28misinstance\u001B[39m(data, \u001B[38;5;28mlist\u001B[39m):\n\u001B[0;32m     89\u001B[0m     \u001B[38;5;28;01mreturn\u001B[39;00m [\u001B[38;5;28mcls\u001B[39m\u001B[38;5;241m.\u001B[39msanitize(x) \u001B[38;5;28;01mfor\u001B[39;00m x \u001B[38;5;129;01min\u001B[39;00m data]\n",
      "File \u001B[1;32m~\\miniconda3\\envs\\AGB3.1\\lib\\site-packages\\bw2data\\serialization.py:86\u001B[0m, in \u001B[0;36m<listcomp>\u001B[1;34m(.0)\u001B[0m\n\u001B[0;32m     78\u001B[0m     \u001B[38;5;28;01mreturn\u001B[39;00m {\n\u001B[0;32m     79\u001B[0m         \u001B[38;5;124m'\u001B[39m\u001B[38;5;124m__tuple__\u001B[39m\u001B[38;5;124m'\u001B[39m: \u001B[38;5;28;01mTrue\u001B[39;00m,\n\u001B[0;32m     80\u001B[0m         \u001B[38;5;124m'\u001B[39m\u001B[38;5;124mdata\u001B[39m\u001B[38;5;124m'\u001B[39m: [\u001B[38;5;28mcls\u001B[39m\u001B[38;5;241m.\u001B[39msanitize(x) \u001B[38;5;28;01mfor\u001B[39;00m x \u001B[38;5;129;01min\u001B[39;00m data]\n\u001B[0;32m     81\u001B[0m     }\n\u001B[0;32m     82\u001B[0m \u001B[38;5;28;01melif\u001B[39;00m \u001B[38;5;28misinstance\u001B[39m(data, \u001B[38;5;28mdict\u001B[39m):\n\u001B[0;32m     83\u001B[0m     \u001B[38;5;28;01mreturn\u001B[39;00m {\n\u001B[0;32m     84\u001B[0m         \u001B[38;5;124m'\u001B[39m\u001B[38;5;124m__dict__\u001B[39m\u001B[38;5;124m'\u001B[39m: \u001B[38;5;28;01mTrue\u001B[39;00m,\n\u001B[0;32m     85\u001B[0m         \u001B[38;5;124m'\u001B[39m\u001B[38;5;124mkeys\u001B[39m\u001B[38;5;124m'\u001B[39m: [\u001B[38;5;28mcls\u001B[39m\u001B[38;5;241m.\u001B[39msanitize(x) \u001B[38;5;28;01mfor\u001B[39;00m x \u001B[38;5;129;01min\u001B[39;00m data\u001B[38;5;241m.\u001B[39mkeys()],\n\u001B[1;32m---> 86\u001B[0m         \u001B[38;5;124m'\u001B[39m\u001B[38;5;124mvalues\u001B[39m\u001B[38;5;124m'\u001B[39m: [\u001B[38;5;28;43mcls\u001B[39;49m\u001B[38;5;241;43m.\u001B[39;49m\u001B[43msanitize\u001B[49m\u001B[43m(\u001B[49m\u001B[43mx\u001B[49m\u001B[43m)\u001B[49m \u001B[38;5;28;01mfor\u001B[39;00m x \u001B[38;5;129;01min\u001B[39;00m data\u001B[38;5;241m.\u001B[39mvalues()]\n\u001B[0;32m     87\u001B[0m     }\n\u001B[0;32m     88\u001B[0m \u001B[38;5;28;01melif\u001B[39;00m \u001B[38;5;28misinstance\u001B[39m(data, \u001B[38;5;28mlist\u001B[39m):\n\u001B[0;32m     89\u001B[0m     \u001B[38;5;28;01mreturn\u001B[39;00m [\u001B[38;5;28mcls\u001B[39m\u001B[38;5;241m.\u001B[39msanitize(x) \u001B[38;5;28;01mfor\u001B[39;00m x \u001B[38;5;129;01min\u001B[39;00m data]\n",
      "File \u001B[1;32m~\\miniconda3\\envs\\AGB3.1\\lib\\site-packages\\bw2data\\serialization.py:86\u001B[0m, in \u001B[0;36mJsonSanitizer.sanitize\u001B[1;34m(cls, data)\u001B[0m\n\u001B[0;32m     78\u001B[0m     \u001B[38;5;28;01mreturn\u001B[39;00m {\n\u001B[0;32m     79\u001B[0m         \u001B[38;5;124m'\u001B[39m\u001B[38;5;124m__tuple__\u001B[39m\u001B[38;5;124m'\u001B[39m: \u001B[38;5;28;01mTrue\u001B[39;00m,\n\u001B[0;32m     80\u001B[0m         \u001B[38;5;124m'\u001B[39m\u001B[38;5;124mdata\u001B[39m\u001B[38;5;124m'\u001B[39m: [\u001B[38;5;28mcls\u001B[39m\u001B[38;5;241m.\u001B[39msanitize(x) \u001B[38;5;28;01mfor\u001B[39;00m x \u001B[38;5;129;01min\u001B[39;00m data]\n\u001B[0;32m     81\u001B[0m     }\n\u001B[0;32m     82\u001B[0m \u001B[38;5;28;01melif\u001B[39;00m \u001B[38;5;28misinstance\u001B[39m(data, \u001B[38;5;28mdict\u001B[39m):\n\u001B[0;32m     83\u001B[0m     \u001B[38;5;28;01mreturn\u001B[39;00m {\n\u001B[0;32m     84\u001B[0m         \u001B[38;5;124m'\u001B[39m\u001B[38;5;124m__dict__\u001B[39m\u001B[38;5;124m'\u001B[39m: \u001B[38;5;28;01mTrue\u001B[39;00m,\n\u001B[0;32m     85\u001B[0m         \u001B[38;5;124m'\u001B[39m\u001B[38;5;124mkeys\u001B[39m\u001B[38;5;124m'\u001B[39m: [\u001B[38;5;28mcls\u001B[39m\u001B[38;5;241m.\u001B[39msanitize(x) \u001B[38;5;28;01mfor\u001B[39;00m x \u001B[38;5;129;01min\u001B[39;00m data\u001B[38;5;241m.\u001B[39mkeys()],\n\u001B[1;32m---> 86\u001B[0m         \u001B[38;5;124m'\u001B[39m\u001B[38;5;124mvalues\u001B[39m\u001B[38;5;124m'\u001B[39m: [\u001B[38;5;28mcls\u001B[39m\u001B[38;5;241m.\u001B[39msanitize(x) \u001B[38;5;28;01mfor\u001B[39;00m x \u001B[38;5;129;01min\u001B[39;00m data\u001B[38;5;241m.\u001B[39mvalues()]\n\u001B[0;32m     87\u001B[0m     }\n\u001B[0;32m     88\u001B[0m \u001B[38;5;28;01melif\u001B[39;00m \u001B[38;5;28misinstance\u001B[39m(data, \u001B[38;5;28mlist\u001B[39m):\n\u001B[0;32m     89\u001B[0m     \u001B[38;5;28;01mreturn\u001B[39;00m [\u001B[38;5;28mcls\u001B[39m\u001B[38;5;241m.\u001B[39msanitize(x) \u001B[38;5;28;01mfor\u001B[39;00m x \u001B[38;5;129;01min\u001B[39;00m data]\n",
      "File \u001B[1;32m~\\miniconda3\\envs\\AGB3.1\\lib\\site-packages\\bw2data\\serialization.py:86\u001B[0m, in \u001B[0;36m<listcomp>\u001B[1;34m(.0)\u001B[0m\n\u001B[0;32m     78\u001B[0m     \u001B[38;5;28;01mreturn\u001B[39;00m {\n\u001B[0;32m     79\u001B[0m         \u001B[38;5;124m'\u001B[39m\u001B[38;5;124m__tuple__\u001B[39m\u001B[38;5;124m'\u001B[39m: \u001B[38;5;28;01mTrue\u001B[39;00m,\n\u001B[0;32m     80\u001B[0m         \u001B[38;5;124m'\u001B[39m\u001B[38;5;124mdata\u001B[39m\u001B[38;5;124m'\u001B[39m: [\u001B[38;5;28mcls\u001B[39m\u001B[38;5;241m.\u001B[39msanitize(x) \u001B[38;5;28;01mfor\u001B[39;00m x \u001B[38;5;129;01min\u001B[39;00m data]\n\u001B[0;32m     81\u001B[0m     }\n\u001B[0;32m     82\u001B[0m \u001B[38;5;28;01melif\u001B[39;00m \u001B[38;5;28misinstance\u001B[39m(data, \u001B[38;5;28mdict\u001B[39m):\n\u001B[0;32m     83\u001B[0m     \u001B[38;5;28;01mreturn\u001B[39;00m {\n\u001B[0;32m     84\u001B[0m         \u001B[38;5;124m'\u001B[39m\u001B[38;5;124m__dict__\u001B[39m\u001B[38;5;124m'\u001B[39m: \u001B[38;5;28;01mTrue\u001B[39;00m,\n\u001B[0;32m     85\u001B[0m         \u001B[38;5;124m'\u001B[39m\u001B[38;5;124mkeys\u001B[39m\u001B[38;5;124m'\u001B[39m: [\u001B[38;5;28mcls\u001B[39m\u001B[38;5;241m.\u001B[39msanitize(x) \u001B[38;5;28;01mfor\u001B[39;00m x \u001B[38;5;129;01min\u001B[39;00m data\u001B[38;5;241m.\u001B[39mkeys()],\n\u001B[1;32m---> 86\u001B[0m         \u001B[38;5;124m'\u001B[39m\u001B[38;5;124mvalues\u001B[39m\u001B[38;5;124m'\u001B[39m: [\u001B[38;5;28;43mcls\u001B[39;49m\u001B[38;5;241;43m.\u001B[39;49m\u001B[43msanitize\u001B[49m\u001B[43m(\u001B[49m\u001B[43mx\u001B[49m\u001B[43m)\u001B[49m \u001B[38;5;28;01mfor\u001B[39;00m x \u001B[38;5;129;01min\u001B[39;00m data\u001B[38;5;241m.\u001B[39mvalues()]\n\u001B[0;32m     87\u001B[0m     }\n\u001B[0;32m     88\u001B[0m \u001B[38;5;28;01melif\u001B[39;00m \u001B[38;5;28misinstance\u001B[39m(data, \u001B[38;5;28mlist\u001B[39m):\n\u001B[0;32m     89\u001B[0m     \u001B[38;5;28;01mreturn\u001B[39;00m [\u001B[38;5;28mcls\u001B[39m\u001B[38;5;241m.\u001B[39msanitize(x) \u001B[38;5;28;01mfor\u001B[39;00m x \u001B[38;5;129;01min\u001B[39;00m data]\n",
      "File \u001B[1;32m~\\miniconda3\\envs\\AGB3.1\\lib\\site-packages\\bw2data\\serialization.py:89\u001B[0m, in \u001B[0;36mJsonSanitizer.sanitize\u001B[1;34m(cls, data)\u001B[0m\n\u001B[0;32m     83\u001B[0m     \u001B[38;5;28;01mreturn\u001B[39;00m {\n\u001B[0;32m     84\u001B[0m         \u001B[38;5;124m'\u001B[39m\u001B[38;5;124m__dict__\u001B[39m\u001B[38;5;124m'\u001B[39m: \u001B[38;5;28;01mTrue\u001B[39;00m,\n\u001B[0;32m     85\u001B[0m         \u001B[38;5;124m'\u001B[39m\u001B[38;5;124mkeys\u001B[39m\u001B[38;5;124m'\u001B[39m: [\u001B[38;5;28mcls\u001B[39m\u001B[38;5;241m.\u001B[39msanitize(x) \u001B[38;5;28;01mfor\u001B[39;00m x \u001B[38;5;129;01min\u001B[39;00m data\u001B[38;5;241m.\u001B[39mkeys()],\n\u001B[0;32m     86\u001B[0m         \u001B[38;5;124m'\u001B[39m\u001B[38;5;124mvalues\u001B[39m\u001B[38;5;124m'\u001B[39m: [\u001B[38;5;28mcls\u001B[39m\u001B[38;5;241m.\u001B[39msanitize(x) \u001B[38;5;28;01mfor\u001B[39;00m x \u001B[38;5;129;01min\u001B[39;00m data\u001B[38;5;241m.\u001B[39mvalues()]\n\u001B[0;32m     87\u001B[0m     }\n\u001B[0;32m     88\u001B[0m \u001B[38;5;28;01melif\u001B[39;00m \u001B[38;5;28misinstance\u001B[39m(data, \u001B[38;5;28mlist\u001B[39m):\n\u001B[1;32m---> 89\u001B[0m     \u001B[38;5;28;01mreturn\u001B[39;00m [\u001B[38;5;28mcls\u001B[39m\u001B[38;5;241m.\u001B[39msanitize(x) \u001B[38;5;28;01mfor\u001B[39;00m x \u001B[38;5;129;01min\u001B[39;00m data]\n\u001B[0;32m     90\u001B[0m \u001B[38;5;28;01melse\u001B[39;00m:\n\u001B[0;32m     91\u001B[0m     \u001B[38;5;28;01mreturn\u001B[39;00m data\n",
      "File \u001B[1;32m~\\miniconda3\\envs\\AGB3.1\\lib\\site-packages\\bw2data\\serialization.py:89\u001B[0m, in \u001B[0;36m<listcomp>\u001B[1;34m(.0)\u001B[0m\n\u001B[0;32m     83\u001B[0m     \u001B[38;5;28;01mreturn\u001B[39;00m {\n\u001B[0;32m     84\u001B[0m         \u001B[38;5;124m'\u001B[39m\u001B[38;5;124m__dict__\u001B[39m\u001B[38;5;124m'\u001B[39m: \u001B[38;5;28;01mTrue\u001B[39;00m,\n\u001B[0;32m     85\u001B[0m         \u001B[38;5;124m'\u001B[39m\u001B[38;5;124mkeys\u001B[39m\u001B[38;5;124m'\u001B[39m: [\u001B[38;5;28mcls\u001B[39m\u001B[38;5;241m.\u001B[39msanitize(x) \u001B[38;5;28;01mfor\u001B[39;00m x \u001B[38;5;129;01min\u001B[39;00m data\u001B[38;5;241m.\u001B[39mkeys()],\n\u001B[0;32m     86\u001B[0m         \u001B[38;5;124m'\u001B[39m\u001B[38;5;124mvalues\u001B[39m\u001B[38;5;124m'\u001B[39m: [\u001B[38;5;28mcls\u001B[39m\u001B[38;5;241m.\u001B[39msanitize(x) \u001B[38;5;28;01mfor\u001B[39;00m x \u001B[38;5;129;01min\u001B[39;00m data\u001B[38;5;241m.\u001B[39mvalues()]\n\u001B[0;32m     87\u001B[0m     }\n\u001B[0;32m     88\u001B[0m \u001B[38;5;28;01melif\u001B[39;00m \u001B[38;5;28misinstance\u001B[39m(data, \u001B[38;5;28mlist\u001B[39m):\n\u001B[1;32m---> 89\u001B[0m     \u001B[38;5;28;01mreturn\u001B[39;00m [\u001B[38;5;28;43mcls\u001B[39;49m\u001B[38;5;241;43m.\u001B[39;49m\u001B[43msanitize\u001B[49m\u001B[43m(\u001B[49m\u001B[43mx\u001B[49m\u001B[43m)\u001B[49m \u001B[38;5;28;01mfor\u001B[39;00m x \u001B[38;5;129;01min\u001B[39;00m data]\n\u001B[0;32m     90\u001B[0m \u001B[38;5;28;01melse\u001B[39;00m:\n\u001B[0;32m     91\u001B[0m     \u001B[38;5;28;01mreturn\u001B[39;00m data\n",
      "File \u001B[1;32m~\\miniconda3\\envs\\AGB3.1\\lib\\site-packages\\bw2data\\serialization.py:86\u001B[0m, in \u001B[0;36mJsonSanitizer.sanitize\u001B[1;34m(cls, data)\u001B[0m\n\u001B[0;32m     78\u001B[0m     \u001B[38;5;28;01mreturn\u001B[39;00m {\n\u001B[0;32m     79\u001B[0m         \u001B[38;5;124m'\u001B[39m\u001B[38;5;124m__tuple__\u001B[39m\u001B[38;5;124m'\u001B[39m: \u001B[38;5;28;01mTrue\u001B[39;00m,\n\u001B[0;32m     80\u001B[0m         \u001B[38;5;124m'\u001B[39m\u001B[38;5;124mdata\u001B[39m\u001B[38;5;124m'\u001B[39m: [\u001B[38;5;28mcls\u001B[39m\u001B[38;5;241m.\u001B[39msanitize(x) \u001B[38;5;28;01mfor\u001B[39;00m x \u001B[38;5;129;01min\u001B[39;00m data]\n\u001B[0;32m     81\u001B[0m     }\n\u001B[0;32m     82\u001B[0m \u001B[38;5;28;01melif\u001B[39;00m \u001B[38;5;28misinstance\u001B[39m(data, \u001B[38;5;28mdict\u001B[39m):\n\u001B[0;32m     83\u001B[0m     \u001B[38;5;28;01mreturn\u001B[39;00m {\n\u001B[0;32m     84\u001B[0m         \u001B[38;5;124m'\u001B[39m\u001B[38;5;124m__dict__\u001B[39m\u001B[38;5;124m'\u001B[39m: \u001B[38;5;28;01mTrue\u001B[39;00m,\n\u001B[0;32m     85\u001B[0m         \u001B[38;5;124m'\u001B[39m\u001B[38;5;124mkeys\u001B[39m\u001B[38;5;124m'\u001B[39m: [\u001B[38;5;28mcls\u001B[39m\u001B[38;5;241m.\u001B[39msanitize(x) \u001B[38;5;28;01mfor\u001B[39;00m x \u001B[38;5;129;01min\u001B[39;00m data\u001B[38;5;241m.\u001B[39mkeys()],\n\u001B[1;32m---> 86\u001B[0m         \u001B[38;5;124m'\u001B[39m\u001B[38;5;124mvalues\u001B[39m\u001B[38;5;124m'\u001B[39m: [\u001B[38;5;28mcls\u001B[39m\u001B[38;5;241m.\u001B[39msanitize(x) \u001B[38;5;28;01mfor\u001B[39;00m x \u001B[38;5;129;01min\u001B[39;00m data\u001B[38;5;241m.\u001B[39mvalues()]\n\u001B[0;32m     87\u001B[0m     }\n\u001B[0;32m     88\u001B[0m \u001B[38;5;28;01melif\u001B[39;00m \u001B[38;5;28misinstance\u001B[39m(data, \u001B[38;5;28mlist\u001B[39m):\n\u001B[0;32m     89\u001B[0m     \u001B[38;5;28;01mreturn\u001B[39;00m [\u001B[38;5;28mcls\u001B[39m\u001B[38;5;241m.\u001B[39msanitize(x) \u001B[38;5;28;01mfor\u001B[39;00m x \u001B[38;5;129;01min\u001B[39;00m data]\n",
      "File \u001B[1;32m~\\miniconda3\\envs\\AGB3.1\\lib\\site-packages\\bw2data\\serialization.py:86\u001B[0m, in \u001B[0;36m<listcomp>\u001B[1;34m(.0)\u001B[0m\n\u001B[0;32m     78\u001B[0m     \u001B[38;5;28;01mreturn\u001B[39;00m {\n\u001B[0;32m     79\u001B[0m         \u001B[38;5;124m'\u001B[39m\u001B[38;5;124m__tuple__\u001B[39m\u001B[38;5;124m'\u001B[39m: \u001B[38;5;28;01mTrue\u001B[39;00m,\n\u001B[0;32m     80\u001B[0m         \u001B[38;5;124m'\u001B[39m\u001B[38;5;124mdata\u001B[39m\u001B[38;5;124m'\u001B[39m: [\u001B[38;5;28mcls\u001B[39m\u001B[38;5;241m.\u001B[39msanitize(x) \u001B[38;5;28;01mfor\u001B[39;00m x \u001B[38;5;129;01min\u001B[39;00m data]\n\u001B[0;32m     81\u001B[0m     }\n\u001B[0;32m     82\u001B[0m \u001B[38;5;28;01melif\u001B[39;00m \u001B[38;5;28misinstance\u001B[39m(data, \u001B[38;5;28mdict\u001B[39m):\n\u001B[0;32m     83\u001B[0m     \u001B[38;5;28;01mreturn\u001B[39;00m {\n\u001B[0;32m     84\u001B[0m         \u001B[38;5;124m'\u001B[39m\u001B[38;5;124m__dict__\u001B[39m\u001B[38;5;124m'\u001B[39m: \u001B[38;5;28;01mTrue\u001B[39;00m,\n\u001B[0;32m     85\u001B[0m         \u001B[38;5;124m'\u001B[39m\u001B[38;5;124mkeys\u001B[39m\u001B[38;5;124m'\u001B[39m: [\u001B[38;5;28mcls\u001B[39m\u001B[38;5;241m.\u001B[39msanitize(x) \u001B[38;5;28;01mfor\u001B[39;00m x \u001B[38;5;129;01min\u001B[39;00m data\u001B[38;5;241m.\u001B[39mkeys()],\n\u001B[1;32m---> 86\u001B[0m         \u001B[38;5;124m'\u001B[39m\u001B[38;5;124mvalues\u001B[39m\u001B[38;5;124m'\u001B[39m: [\u001B[38;5;28;43mcls\u001B[39;49m\u001B[38;5;241;43m.\u001B[39;49m\u001B[43msanitize\u001B[49m\u001B[43m(\u001B[49m\u001B[43mx\u001B[49m\u001B[43m)\u001B[49m \u001B[38;5;28;01mfor\u001B[39;00m x \u001B[38;5;129;01min\u001B[39;00m data\u001B[38;5;241m.\u001B[39mvalues()]\n\u001B[0;32m     87\u001B[0m     }\n\u001B[0;32m     88\u001B[0m \u001B[38;5;28;01melif\u001B[39;00m \u001B[38;5;28misinstance\u001B[39m(data, \u001B[38;5;28mlist\u001B[39m):\n\u001B[0;32m     89\u001B[0m     \u001B[38;5;28;01mreturn\u001B[39;00m [\u001B[38;5;28mcls\u001B[39m\u001B[38;5;241m.\u001B[39msanitize(x) \u001B[38;5;28;01mfor\u001B[39;00m x \u001B[38;5;129;01min\u001B[39;00m data]\n",
      "File \u001B[1;32m~\\miniconda3\\envs\\AGB3.1\\lib\\site-packages\\bw2data\\serialization.py:80\u001B[0m, in \u001B[0;36mJsonSanitizer.sanitize\u001B[1;34m(cls, data)\u001B[0m\n\u001B[0;32m     75\u001B[0m \u001B[38;5;129m@classmethod\u001B[39m\n\u001B[0;32m     76\u001B[0m \u001B[38;5;28;01mdef\u001B[39;00m \u001B[38;5;21msanitize\u001B[39m(\u001B[38;5;28mcls\u001B[39m, data):\n\u001B[0;32m     77\u001B[0m     \u001B[38;5;28;01mif\u001B[39;00m \u001B[38;5;28misinstance\u001B[39m(data, \u001B[38;5;28mtuple\u001B[39m):\n\u001B[0;32m     78\u001B[0m         \u001B[38;5;28;01mreturn\u001B[39;00m {\n\u001B[0;32m     79\u001B[0m             \u001B[38;5;124m'\u001B[39m\u001B[38;5;124m__tuple__\u001B[39m\u001B[38;5;124m'\u001B[39m: \u001B[38;5;28;01mTrue\u001B[39;00m,\n\u001B[1;32m---> 80\u001B[0m             \u001B[38;5;124m'\u001B[39m\u001B[38;5;124mdata\u001B[39m\u001B[38;5;124m'\u001B[39m: [\u001B[38;5;28mcls\u001B[39m\u001B[38;5;241m.\u001B[39msanitize(x) \u001B[38;5;28;01mfor\u001B[39;00m x \u001B[38;5;129;01min\u001B[39;00m data]\n\u001B[0;32m     81\u001B[0m         }\n\u001B[0;32m     82\u001B[0m     \u001B[38;5;28;01melif\u001B[39;00m \u001B[38;5;28misinstance\u001B[39m(data, \u001B[38;5;28mdict\u001B[39m):\n\u001B[0;32m     83\u001B[0m         \u001B[38;5;28;01mreturn\u001B[39;00m {\n\u001B[0;32m     84\u001B[0m             \u001B[38;5;124m'\u001B[39m\u001B[38;5;124m__dict__\u001B[39m\u001B[38;5;124m'\u001B[39m: \u001B[38;5;28;01mTrue\u001B[39;00m,\n\u001B[0;32m     85\u001B[0m             \u001B[38;5;124m'\u001B[39m\u001B[38;5;124mkeys\u001B[39m\u001B[38;5;124m'\u001B[39m: [\u001B[38;5;28mcls\u001B[39m\u001B[38;5;241m.\u001B[39msanitize(x) \u001B[38;5;28;01mfor\u001B[39;00m x \u001B[38;5;129;01min\u001B[39;00m data\u001B[38;5;241m.\u001B[39mkeys()],\n\u001B[0;32m     86\u001B[0m             \u001B[38;5;124m'\u001B[39m\u001B[38;5;124mvalues\u001B[39m\u001B[38;5;124m'\u001B[39m: [\u001B[38;5;28mcls\u001B[39m\u001B[38;5;241m.\u001B[39msanitize(x) \u001B[38;5;28;01mfor\u001B[39;00m x \u001B[38;5;129;01min\u001B[39;00m data\u001B[38;5;241m.\u001B[39mvalues()]\n\u001B[0;32m     87\u001B[0m         }\n",
      "File \u001B[1;32m~\\miniconda3\\envs\\AGB3.1\\lib\\site-packages\\bw2data\\serialization.py:80\u001B[0m, in \u001B[0;36m<listcomp>\u001B[1;34m(.0)\u001B[0m\n\u001B[0;32m     75\u001B[0m \u001B[38;5;129m@classmethod\u001B[39m\n\u001B[0;32m     76\u001B[0m \u001B[38;5;28;01mdef\u001B[39;00m \u001B[38;5;21msanitize\u001B[39m(\u001B[38;5;28mcls\u001B[39m, data):\n\u001B[0;32m     77\u001B[0m     \u001B[38;5;28;01mif\u001B[39;00m \u001B[38;5;28misinstance\u001B[39m(data, \u001B[38;5;28mtuple\u001B[39m):\n\u001B[0;32m     78\u001B[0m         \u001B[38;5;28;01mreturn\u001B[39;00m {\n\u001B[0;32m     79\u001B[0m             \u001B[38;5;124m'\u001B[39m\u001B[38;5;124m__tuple__\u001B[39m\u001B[38;5;124m'\u001B[39m: \u001B[38;5;28;01mTrue\u001B[39;00m,\n\u001B[1;32m---> 80\u001B[0m             \u001B[38;5;124m'\u001B[39m\u001B[38;5;124mdata\u001B[39m\u001B[38;5;124m'\u001B[39m: [\u001B[38;5;28;43mcls\u001B[39;49m\u001B[38;5;241;43m.\u001B[39;49m\u001B[43msanitize\u001B[49m\u001B[43m(\u001B[49m\u001B[43mx\u001B[49m\u001B[43m)\u001B[49m \u001B[38;5;28;01mfor\u001B[39;00m x \u001B[38;5;129;01min\u001B[39;00m data]\n\u001B[0;32m     81\u001B[0m         }\n\u001B[0;32m     82\u001B[0m     \u001B[38;5;28;01melif\u001B[39;00m \u001B[38;5;28misinstance\u001B[39m(data, \u001B[38;5;28mdict\u001B[39m):\n\u001B[0;32m     83\u001B[0m         \u001B[38;5;28;01mreturn\u001B[39;00m {\n\u001B[0;32m     84\u001B[0m             \u001B[38;5;124m'\u001B[39m\u001B[38;5;124m__dict__\u001B[39m\u001B[38;5;124m'\u001B[39m: \u001B[38;5;28;01mTrue\u001B[39;00m,\n\u001B[0;32m     85\u001B[0m             \u001B[38;5;124m'\u001B[39m\u001B[38;5;124mkeys\u001B[39m\u001B[38;5;124m'\u001B[39m: [\u001B[38;5;28mcls\u001B[39m\u001B[38;5;241m.\u001B[39msanitize(x) \u001B[38;5;28;01mfor\u001B[39;00m x \u001B[38;5;129;01min\u001B[39;00m data\u001B[38;5;241m.\u001B[39mkeys()],\n\u001B[0;32m     86\u001B[0m             \u001B[38;5;124m'\u001B[39m\u001B[38;5;124mvalues\u001B[39m\u001B[38;5;124m'\u001B[39m: [\u001B[38;5;28mcls\u001B[39m\u001B[38;5;241m.\u001B[39msanitize(x) \u001B[38;5;28;01mfor\u001B[39;00m x \u001B[38;5;129;01min\u001B[39;00m data\u001B[38;5;241m.\u001B[39mvalues()]\n\u001B[0;32m     87\u001B[0m         }\n",
      "File \u001B[1;32m~\\miniconda3\\envs\\AGB3.1\\lib\\site-packages\\bw2data\\serialization.py:75\u001B[0m, in \u001B[0;36mJsonSanitizer.sanitize\u001B[1;34m(cls, data)\u001B[0m\n\u001B[0;32m     74\u001B[0m \u001B[38;5;28;01mclass\u001B[39;00m \u001B[38;5;21;01mJsonSanitizer\u001B[39;00m(\u001B[38;5;28mobject\u001B[39m):\n\u001B[1;32m---> 75\u001B[0m     \u001B[38;5;129m@classmethod\u001B[39m\n\u001B[0;32m     76\u001B[0m     \u001B[38;5;28;01mdef\u001B[39;00m \u001B[38;5;21msanitize\u001B[39m(\u001B[38;5;28mcls\u001B[39m, data):\n\u001B[0;32m     77\u001B[0m         \u001B[38;5;28;01mif\u001B[39;00m \u001B[38;5;28misinstance\u001B[39m(data, \u001B[38;5;28mtuple\u001B[39m):\n\u001B[0;32m     78\u001B[0m             \u001B[38;5;28;01mreturn\u001B[39;00m {\n\u001B[0;32m     79\u001B[0m                 \u001B[38;5;124m'\u001B[39m\u001B[38;5;124m__tuple__\u001B[39m\u001B[38;5;124m'\u001B[39m: \u001B[38;5;28;01mTrue\u001B[39;00m,\n\u001B[0;32m     80\u001B[0m                 \u001B[38;5;124m'\u001B[39m\u001B[38;5;124mdata\u001B[39m\u001B[38;5;124m'\u001B[39m: [\u001B[38;5;28mcls\u001B[39m\u001B[38;5;241m.\u001B[39msanitize(x) \u001B[38;5;28;01mfor\u001B[39;00m x \u001B[38;5;129;01min\u001B[39;00m data]\n\u001B[0;32m     81\u001B[0m             }\n",
      "\u001B[1;31mKeyboardInterrupt\u001B[0m: "
     ]
    }
   ],
   "source": [
    "bw.BW2Package.export_objs([bw.Database('agribalyse3.1'), bw.Database('Agribalyse3.1 biosphere flows')], filename='AGB3.1.bw2package', folder='data')"
   ],
   "metadata": {
    "collapsed": false
   }
  },
  {
   "cell_type": "code",
   "execution_count": null,
   "outputs": [],
   "source": [],
   "metadata": {
    "collapsed": false
   }
  }
 ],
 "metadata": {
  "kernelspec": {
   "display_name": "Python 3",
   "language": "python",
   "name": "python3"
  },
  "language_info": {
   "codemirror_mode": {
    "name": "ipython",
    "version": 2
   },
   "file_extension": ".py",
   "mimetype": "text/x-python",
   "name": "python",
   "nbconvert_exporter": "python",
   "pygments_lexer": "ipython2",
   "version": "2.7.6"
  }
 },
 "nbformat": 4,
 "nbformat_minor": 0
}
