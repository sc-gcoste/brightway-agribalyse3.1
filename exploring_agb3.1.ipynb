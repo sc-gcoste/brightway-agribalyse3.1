{
 "cells": [
  {
   "cell_type": "code",
   "execution_count": 1,
   "outputs": [
    {
     "name": "stdout",
     "output_type": "stream",
     "text": [
      "Biosphere database already present!!! No setup is needed\n"
     ]
    }
   ],
   "source": [
    "import brightway2 as bw\n",
    "\n",
    "bw.projects.set_current('Testing AGB3.1 import')\n",
    "bw.bw2setup()"
   ],
   "metadata": {
    "collapsed": false
   }
  },
  {
   "cell_type": "markdown",
   "source": [
    "Importing the database"
   ],
   "metadata": {
    "collapsed": false
   }
  },
  {
   "cell_type": "code",
   "execution_count": 2,
   "metadata": {
    "collapsed": true
   },
   "outputs": [
    {
     "name": "stderr",
     "output_type": "stream",
     "text": [
      "Writing activities to SQLite3 database:\n",
      "0% [##############################] 100% | ETA: 00:00:00\n",
      "Total time elapsed: 00:00:00\n"
     ]
    },
    {
     "name": "stdout",
     "output_type": "stream",
     "text": [
      "Title: Writing activities to SQLite3 database:\n",
      "  Started: 09/24/2022 18:22:28\n",
      "  Finished: 09/24/2022 18:22:29\n",
      "  Total time elapsed: 00:00:00\n",
      "  CPU %: 34.50\n",
      "  Memory %: 54.77\n"
     ]
    },
    {
     "name": "stderr",
     "output_type": "stream",
     "text": [
      "Writing activities to SQLite3 database:\n",
      "0% [##############################] 100% | ETA: 00:00:00\n",
      "Total time elapsed: 00:12:41\n"
     ]
    },
    {
     "name": "stdout",
     "output_type": "stream",
     "text": [
      "Title: Writing activities to SQLite3 database:\n",
      "  Started: 09/24/2022 18:22:35\n",
      "  Finished: 09/24/2022 18:35:16\n",
      "  Total time elapsed: 00:12:41\n",
      "  CPU %: 31.90\n",
      "  Memory %: 63.10\n"
     ]
    },
    {
     "data": {
      "text/plain": "[Brightway2 SQLiteBackend: Agribalyse3.1 biosphere flows,\n Brightway2 SQLiteBackend: agribalyse3.1]"
     },
     "execution_count": 2,
     "metadata": {},
     "output_type": "execute_result"
    }
   ],
   "source": [
    "bw.BW2Package.import_file(r'C:\\Users\\GustaveCoste\\PycharmProjects\\AGB3.1\\data\\AGB31.bw2package')"
   ]
  },
  {
   "cell_type": "code",
   "execution_count": 3,
   "outputs": [
    {
     "data": {
      "text/plain": "Databases dictionary with 3 object(s):\n\tAgribalyse3.1 biosphere flows\n\tagribalyse3.1\n\tbiosphere3"
     },
     "execution_count": 3,
     "metadata": {},
     "output_type": "execute_result"
    }
   ],
   "source": [
    "bw.databases"
   ],
   "metadata": {
    "collapsed": false
   }
  },
  {
   "cell_type": "markdown",
   "source": [
    "Two databases have been imported:\n",
    "- `agribalyse3.1 biosphere flows` contains biosphere flows that are used by `agribalyse3.1` and that are not present in `biosphere3`, brightway's default biosphere database.\n",
    "- `agribalyse3.1` contains the activities with references to biosphere flows from `agribalyse3.1 biosphere flows` and `biosphere3`"
   ],
   "metadata": {
    "collapsed": false
   }
  },
  {
   "cell_type": "code",
   "execution_count": 4,
   "outputs": [
    {
     "data": {
      "text/plain": "1883"
     },
     "execution_count": 4,
     "metadata": {},
     "output_type": "execute_result"
    }
   ],
   "source": [
    "len(bw.Database('Agribalyse3.1 biosphere flows'))"
   ],
   "metadata": {
    "collapsed": false
   }
  },
  {
   "cell_type": "code",
   "execution_count": 6,
   "outputs": [
    {
     "data": {
      "text/plain": "18609"
     },
     "execution_count": 6,
     "metadata": {},
     "output_type": "execute_result"
    }
   ],
   "source": [
    "len(bw.Database('agribalyse3.1'))"
   ],
   "metadata": {
    "collapsed": false
   }
  },
  {
   "cell_type": "markdown",
   "source": [
    "Some activities contained in `agribalyse3.1` have special metadata."
   ],
   "metadata": {
    "collapsed": false
   }
  },
  {
   "cell_type": "code",
   "execution_count": 9,
   "outputs": [],
   "source": [
    "agb = bw.Database('agribalyse3.1')\n",
    "act = next(x for x in agb if 'ciqual_code' in x)"
   ],
   "metadata": {
    "collapsed": false
   }
  },
  {
   "cell_type": "code",
   "execution_count": 13,
   "outputs": [
    {
     "name": "stdout",
     "output_type": "stream",
     "text": [
      "{'Category type': 'material',\n",
      " 'Comment': 'Inventory of AGRIBALYSE v3.1, 2022 (update to v3.1 in August 2022 '\n",
      "            'by EVEA S.A.S Coopérative). See the complete description of '\n",
      "            'AGRIBALYSE database.The overall DQR of this product is: 4.03 {P: '\n",
      "            '4.92, TiR: 3.13, GR: 3.09, TeR: 5}',\n",
      " 'DQR': {'GR': '3.09',\n",
      "         'P': '4.92',\n",
      "         'TeR': '5',\n",
      "         'TiR': '3.13',\n",
      "         'overall': '4.03'},\n",
      " 'Date': '15/04/2020',\n",
      " 'Infrastructure': 'No',\n",
      " 'Process identifier': 'Training000020187001939',\n",
      " 'Status': 'Finished',\n",
      " 'System description': 'AGRIBALYSE',\n",
      " 'Type': 'Unit process',\n",
      " 'ciqual_code': '32000',\n",
      " 'code': '4e178ddf034ecdd848d4c245dc12b5ee',\n",
      " 'database': 'agribalyse3.1',\n",
      " 'filename': 'data/AGB3.1.CSV',\n",
      " 'location': 'FR',\n",
      " 'name': 'Breakfast cereals, popped or puffed wheat grain, with honey or '\n",
      "         'caramel, fortified with vitamins and chemical elements, processed in '\n",
      "         'FR | Ambient (long) | LDPE | No preparation | at consumer/FR [Ciqual '\n",
      "         'code: 32000]',\n",
      " 'production amount': 1.0,\n",
      " 'reference product': 'Breakfast cereals, popped or puffed wheat grain, with '\n",
      "                      'honey or caramel, fortified with vitamins and chemical '\n",
      "                      'elements, processed in FR | Ambient (long) | LDPE | No '\n",
      "                      'preparation | at consumer/FR [Ciqual code: 32000]',\n",
      " 'type': 'process',\n",
      " 'unit': 'kilogram'}\n"
     ]
    }
   ],
   "source": [
    "from pprint import pprint\n",
    "\n",
    "pprint(act.as_dict())"
   ],
   "metadata": {
    "collapsed": false
   }
  },
  {
   "cell_type": "code",
   "execution_count": null,
   "outputs": [],
   "source": [],
   "metadata": {
    "collapsed": false
   }
  }
 ],
 "metadata": {
  "kernelspec": {
   "display_name": "Python 3",
   "language": "python",
   "name": "python3"
  },
  "language_info": {
   "codemirror_mode": {
    "name": "ipython",
    "version": 2
   },
   "file_extension": ".py",
   "mimetype": "text/x-python",
   "name": "python",
   "nbconvert_exporter": "python",
   "pygments_lexer": "ipython2",
   "version": "2.7.6"
  }
 },
 "nbformat": 4,
 "nbformat_minor": 0
}
